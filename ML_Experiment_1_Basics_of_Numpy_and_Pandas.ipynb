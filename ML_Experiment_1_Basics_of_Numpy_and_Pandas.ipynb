{
  "nbformat": 4,
  "nbformat_minor": 0,
  "metadata": {
    "colab": {
      "provenance": [],
      "authorship_tag": "ABX9TyMi+6mMstJDSALIaHtbRCs8"
    },
    "kernelspec": {
      "name": "python3",
      "display_name": "Python 3"
    },
    "language_info": {
      "name": "python"
    }
  },
  "cells": [
    {
      "cell_type": "markdown",
      "source": [
        "### **Pandas**\n"
      ],
      "metadata": {
        "id": "lr7gvqAzMF2o"
      }
    },
    {
      "cell_type": "code",
      "source": [
        "import pandas as pd"
      ],
      "metadata": {
        "id": "D0XBMKnnMIp5"
      },
      "execution_count": null,
      "outputs": []
    },
    {
      "cell_type": "code",
      "source": [
        "dataset = {\n",
        "    'cars':[\"Toyota\",\"Porsche\",\"Ferrari\"],\n",
        "    'passings':[3,7,2]\n",
        "}\n",
        "var1 = pd.DataFrame(dataset)\n",
        "print(var1)"
      ],
      "metadata": {
        "colab": {
          "base_uri": "https://localhost:8080/"
        },
        "id": "loDHdAh4MZeb",
        "outputId": "072b8599-d8ea-4fa1-aefe-fd888f92f111"
      },
      "execution_count": null,
      "outputs": [
        {
          "output_type": "stream",
          "name": "stdout",
          "text": [
            "      cars  passings\n",
            "0   Toyota         3\n",
            "1  Porsche         7\n",
            "2  Ferrari         2\n"
          ]
        }
      ]
    },
    {
      "cell_type": "code",
      "source": [
        "a = [1,7,2]\n",
        "var2 = pd.Series(a)\n",
        "print(var2)"
      ],
      "metadata": {
        "colab": {
          "base_uri": "https://localhost:8080/"
        },
        "id": "QV3-3mFxMmvC",
        "outputId": "819e2157-124c-42a8-9c3b-4384e173c166"
      },
      "execution_count": null,
      "outputs": [
        {
          "output_type": "stream",
          "name": "stdout",
          "text": [
            "0    1\n",
            "1    7\n",
            "2    2\n",
            "dtype: int64\n"
          ]
        }
      ]
    },
    {
      "cell_type": "code",
      "source": [
        "a = [1,7,2]\n",
        "var3 = pd.Series(a,index=[\"x\",\"y\",\"z\"])\n",
        "print(var3)\n",
        "print(var3[\"y\"])"
      ],
      "metadata": {
        "colab": {
          "base_uri": "https://localhost:8080/"
        },
        "id": "bEkA2hUAM70W",
        "outputId": "aedf7b77-5fc5-4e5d-9242-d2639acf2423"
      },
      "execution_count": null,
      "outputs": [
        {
          "output_type": "stream",
          "name": "stdout",
          "text": [
            "x    1\n",
            "y    7\n",
            "z    2\n",
            "dtype: int64\n",
            "7\n"
          ]
        }
      ]
    },
    {
      "cell_type": "markdown",
      "source": [
        "# Pandas and Numpy"
      ],
      "metadata": {
        "id": "04Pg1OcENaC9"
      }
    },
    {
      "cell_type": "code",
      "source": [
        "import numpy as np"
      ],
      "metadata": {
        "id": "fN9gDzkrNdrj"
      },
      "execution_count": null,
      "outputs": []
    },
    {
      "cell_type": "code",
      "source": [
        "ser = pd.Series()\n",
        "print(ser)"
      ],
      "metadata": {
        "colab": {
          "base_uri": "https://localhost:8080/"
        },
        "id": "YvmHOX0pNi7r",
        "outputId": "0d46a6f2-3831-4e30-e836-91e507152a0f"
      },
      "execution_count": null,
      "outputs": [
        {
          "output_type": "stream",
          "name": "stdout",
          "text": [
            "Series([], dtype: float64)\n"
          ]
        },
        {
          "output_type": "stream",
          "name": "stderr",
          "text": [
            "<ipython-input-15-e6bad121ff5c>:1: FutureWarning: The default dtype for empty Series will be 'object' instead of 'float64' in a future version. Specify a dtype explicitly to silence this warning.\n",
            "  ser = pd.Series()\n"
          ]
        }
      ]
    },
    {
      "cell_type": "code",
      "source": [
        "data = np.array(['p','y','t','h','o','n'])\n",
        "ser = pd.Series(data)\n",
        "print(ser)"
      ],
      "metadata": {
        "colab": {
          "base_uri": "https://localhost:8080/"
        },
        "id": "YZr9FAmQNyFu",
        "outputId": "924f7bf4-ae01-483f-a3d8-c20434ea541d"
      },
      "execution_count": null,
      "outputs": [
        {
          "output_type": "stream",
          "name": "stdout",
          "text": [
            "0    p\n",
            "1    y\n",
            "2    t\n",
            "3    h\n",
            "4    o\n",
            "5    n\n",
            "dtype: object\n"
          ]
        }
      ]
    },
    {
      "cell_type": "code",
      "source": [
        "df = pd.DataFrame()\n",
        "print(df)"
      ],
      "metadata": {
        "colab": {
          "base_uri": "https://localhost:8080/"
        },
        "id": "2Z6DlbkSN3Wn",
        "outputId": "e2e826e0-0f49-4715-f4f6-26f6d34701a8"
      },
      "execution_count": null,
      "outputs": [
        {
          "output_type": "stream",
          "name": "stdout",
          "text": [
            "Empty DataFrame\n",
            "Columns: []\n",
            "Index: []\n"
          ]
        }
      ]
    },
    {
      "cell_type": "code",
      "source": [
        "lst = ['python','r','data','science','sentiment','nlp']\n",
        "df1 = pd.DataFrame(lst)\n",
        "print(df1)"
      ],
      "metadata": {
        "colab": {
          "base_uri": "https://localhost:8080/"
        },
        "id": "tik3z_8oOL1U",
        "outputId": "4afd95d7-5d4c-4d4b-eaab-a2db40e3185a"
      },
      "execution_count": null,
      "outputs": [
        {
          "output_type": "stream",
          "name": "stdout",
          "text": [
            "           0\n",
            "0     python\n",
            "1          r\n",
            "2       data\n",
            "3    science\n",
            "4  sentiment\n",
            "5        nlp\n"
          ]
        }
      ]
    },
    {
      "cell_type": "code",
      "source": [
        "print(var2[0])"
      ],
      "metadata": {
        "colab": {
          "base_uri": "https://localhost:8080/"
        },
        "id": "z1ct8HjnOV9o",
        "outputId": "eff26376-b04a-44d9-a62d-1ab9db56892c"
      },
      "execution_count": null,
      "outputs": [
        {
          "output_type": "stream",
          "name": "stdout",
          "text": [
            "1\n"
          ]
        }
      ]
    },
    {
      "cell_type": "code",
      "source": [
        "Data =[1, 3, 4, 5, 6, 2, 9]\n",
        "s = pd.Series(Data)\n",
        "Index =['a', 'b', 'c', 'd', 'e', 'f', 'g']\n",
        "si = pd.Series(Data, Index)\n",
        "print(si)"
      ],
      "metadata": {
        "colab": {
          "base_uri": "https://localhost:8080/"
        },
        "id": "AZKxkU_TOq83",
        "outputId": "2e0fb2c8-6103-4cd3-9954-f4502f8b7290"
      },
      "execution_count": null,
      "outputs": [
        {
          "output_type": "stream",
          "name": "stdout",
          "text": [
            "a    1\n",
            "b    3\n",
            "c    4\n",
            "d    5\n",
            "e    6\n",
            "f    2\n",
            "g    9\n",
            "dtype: int64\n"
          ]
        }
      ]
    },
    {
      "cell_type": "code",
      "source": [
        "data = {\n",
        "\"calories\": [420, 380, 390],\n",
        "\"duration\": [50, 40, 45]\n",
        "}\n",
        "df = pd.DataFrame(data)\n",
        "print(df)\n",
        "print(df.loc[0])\n",
        "print(df.loc[[0, 1]])"
      ],
      "metadata": {
        "colab": {
          "base_uri": "https://localhost:8080/"
        },
        "id": "88SgCEfYOzkO",
        "outputId": "b6f9a897-37c4-4dc1-c184-512429702997"
      },
      "execution_count": null,
      "outputs": [
        {
          "output_type": "stream",
          "name": "stdout",
          "text": [
            "   calories  duration\n",
            "0       420        50\n",
            "1       380        40\n",
            "2       390        45\n",
            "calories    420\n",
            "duration     50\n",
            "Name: 0, dtype: int64\n",
            "   calories  duration\n",
            "0       420        50\n",
            "1       380        40\n"
          ]
        }
      ]
    },
    {
      "cell_type": "code",
      "source": [
        "df = pd.read_csv('appleAppData.csv')\n",
        "# print(df.to_string())"
      ],
      "metadata": {
        "id": "QCZgOR7LO5Py"
      },
      "execution_count": null,
      "outputs": []
    },
    {
      "cell_type": "code",
      "source": [
        "df.head()"
      ],
      "metadata": {
        "colab": {
          "base_uri": "https://localhost:8080/",
          "height": 359
        },
        "id": "Wb36nxebRPvn",
        "outputId": "d1fded03-03b2-4903-f868-c0bcfe4c284a"
      },
      "execution_count": null,
      "outputs": [
        {
          "output_type": "execute_result",
          "data": {
            "text/plain": [
              "                             App_Id                 App_Name  \\\n",
              "0               com.hkbu.arc.apaper           A+ Paper Guide   \n",
              "1               com.dmitriev.abooks                  A-Books   \n",
              "2                    no.terp.abooks                  A-books   \n",
              "3          fr.antoinettefleur.Book1              A-F Book #1   \n",
              "4  com.imonstersoft.azdictionaryios  A-Z Synonyms Dictionary   \n",
              "\n",
              "                                        AppStore_Url Primary_Genre  \\\n",
              "0  https://apps.apple.com/us/app/a-paper-guide/id...     Education   \n",
              "1  https://apps.apple.com/us/app/a-books/id103157...          Book   \n",
              "2  https://apps.apple.com/us/app/a-books/id145702...          Book   \n",
              "3  https://apps.apple.com/us/app/a-f-book-1/id500...          Book   \n",
              "4  https://apps.apple.com/us/app/a-z-synonyms-dic...     Reference   \n",
              "\n",
              "  Content_Rating  Size_Bytes Required_IOS_Version              Released  \\\n",
              "0             4+    21993472                  8.0  2017-09-28T03:02:41Z   \n",
              "1             4+    13135872                 10.0  2015-08-31T19:31:32Z   \n",
              "2             4+    21943296                  9.0  2021-04-14T07:00:00Z   \n",
              "3             4+    81851392                  8.0  2012-02-10T03:40:07Z   \n",
              "4             4+    64692224                  9.0  2020-12-16T08:00:00Z   \n",
              "\n",
              "                Updated Version  ...  Currency   Free   DeveloperId  \\\n",
              "0  2018-12-21T21:30:36Z   1.1.2  ...       USD   True  1.375411e+09   \n",
              "1  2019-07-23T20:31:09Z     1.3  ...       USD   True  1.031572e+09   \n",
              "2  2021-05-30T21:08:54Z   1.3.1  ...       USD   True  1.457024e+09   \n",
              "3  2019-10-29T12:40:37Z     1.2  ...       USD  False  4.395688e+08   \n",
              "4  2020-12-18T21:36:11Z   1.0.1  ...       USD   True  6.567318e+08   \n",
              "\n",
              "        Developer                                      Developer_Url  \\\n",
              "0        HKBU ARC  https://apps.apple.com/us/developer/hkbu-arc/i...   \n",
              "1  Roman Dmitriev  https://apps.apple.com/us/developer/roman-dmit...   \n",
              "2         Terp AS  https://apps.apple.com/us/developer/terp-as/id...   \n",
              "3   i-editeur.com  https://apps.apple.com/us/developer/i-editeur-...   \n",
              "4   Ngov chiheang  https://apps.apple.com/us/developer/ngov-chihe...   \n",
              "\n",
              "         Developer_Website Average_User_Rating  Reviews  \\\n",
              "0                      NaN                 0.0      0.0   \n",
              "1                      NaN                 5.0      1.0   \n",
              "2                      NaN                 0.0      0.0   \n",
              "3                      NaN                 0.0      0.0   \n",
              "4  http://imonstersoft.com                 0.0      0.0   \n",
              "\n",
              "   Current_Version_Score  Current_Version_Reviews  \n",
              "0                    0.0                      0.0  \n",
              "1                    5.0                      1.0  \n",
              "2                    0.0                      0.0  \n",
              "3                    0.0                      0.0  \n",
              "4                    0.0                      0.0  \n",
              "\n",
              "[5 rows x 21 columns]"
            ],
            "text/html": [
              "\n",
              "  <div id=\"df-9cbc2f30-64b8-46a4-abd3-e5443037c5ee\" class=\"colab-df-container\">\n",
              "    <div>\n",
              "<style scoped>\n",
              "    .dataframe tbody tr th:only-of-type {\n",
              "        vertical-align: middle;\n",
              "    }\n",
              "\n",
              "    .dataframe tbody tr th {\n",
              "        vertical-align: top;\n",
              "    }\n",
              "\n",
              "    .dataframe thead th {\n",
              "        text-align: right;\n",
              "    }\n",
              "</style>\n",
              "<table border=\"1\" class=\"dataframe\">\n",
              "  <thead>\n",
              "    <tr style=\"text-align: right;\">\n",
              "      <th></th>\n",
              "      <th>App_Id</th>\n",
              "      <th>App_Name</th>\n",
              "      <th>AppStore_Url</th>\n",
              "      <th>Primary_Genre</th>\n",
              "      <th>Content_Rating</th>\n",
              "      <th>Size_Bytes</th>\n",
              "      <th>Required_IOS_Version</th>\n",
              "      <th>Released</th>\n",
              "      <th>Updated</th>\n",
              "      <th>Version</th>\n",
              "      <th>...</th>\n",
              "      <th>Currency</th>\n",
              "      <th>Free</th>\n",
              "      <th>DeveloperId</th>\n",
              "      <th>Developer</th>\n",
              "      <th>Developer_Url</th>\n",
              "      <th>Developer_Website</th>\n",
              "      <th>Average_User_Rating</th>\n",
              "      <th>Reviews</th>\n",
              "      <th>Current_Version_Score</th>\n",
              "      <th>Current_Version_Reviews</th>\n",
              "    </tr>\n",
              "  </thead>\n",
              "  <tbody>\n",
              "    <tr>\n",
              "      <th>0</th>\n",
              "      <td>com.hkbu.arc.apaper</td>\n",
              "      <td>A+ Paper Guide</td>\n",
              "      <td>https://apps.apple.com/us/app/a-paper-guide/id...</td>\n",
              "      <td>Education</td>\n",
              "      <td>4+</td>\n",
              "      <td>21993472</td>\n",
              "      <td>8.0</td>\n",
              "      <td>2017-09-28T03:02:41Z</td>\n",
              "      <td>2018-12-21T21:30:36Z</td>\n",
              "      <td>1.1.2</td>\n",
              "      <td>...</td>\n",
              "      <td>USD</td>\n",
              "      <td>True</td>\n",
              "      <td>1.375411e+09</td>\n",
              "      <td>HKBU ARC</td>\n",
              "      <td>https://apps.apple.com/us/developer/hkbu-arc/i...</td>\n",
              "      <td>NaN</td>\n",
              "      <td>0.0</td>\n",
              "      <td>0.0</td>\n",
              "      <td>0.0</td>\n",
              "      <td>0.0</td>\n",
              "    </tr>\n",
              "    <tr>\n",
              "      <th>1</th>\n",
              "      <td>com.dmitriev.abooks</td>\n",
              "      <td>A-Books</td>\n",
              "      <td>https://apps.apple.com/us/app/a-books/id103157...</td>\n",
              "      <td>Book</td>\n",
              "      <td>4+</td>\n",
              "      <td>13135872</td>\n",
              "      <td>10.0</td>\n",
              "      <td>2015-08-31T19:31:32Z</td>\n",
              "      <td>2019-07-23T20:31:09Z</td>\n",
              "      <td>1.3</td>\n",
              "      <td>...</td>\n",
              "      <td>USD</td>\n",
              "      <td>True</td>\n",
              "      <td>1.031572e+09</td>\n",
              "      <td>Roman Dmitriev</td>\n",
              "      <td>https://apps.apple.com/us/developer/roman-dmit...</td>\n",
              "      <td>NaN</td>\n",
              "      <td>5.0</td>\n",
              "      <td>1.0</td>\n",
              "      <td>5.0</td>\n",
              "      <td>1.0</td>\n",
              "    </tr>\n",
              "    <tr>\n",
              "      <th>2</th>\n",
              "      <td>no.terp.abooks</td>\n",
              "      <td>A-books</td>\n",
              "      <td>https://apps.apple.com/us/app/a-books/id145702...</td>\n",
              "      <td>Book</td>\n",
              "      <td>4+</td>\n",
              "      <td>21943296</td>\n",
              "      <td>9.0</td>\n",
              "      <td>2021-04-14T07:00:00Z</td>\n",
              "      <td>2021-05-30T21:08:54Z</td>\n",
              "      <td>1.3.1</td>\n",
              "      <td>...</td>\n",
              "      <td>USD</td>\n",
              "      <td>True</td>\n",
              "      <td>1.457024e+09</td>\n",
              "      <td>Terp AS</td>\n",
              "      <td>https://apps.apple.com/us/developer/terp-as/id...</td>\n",
              "      <td>NaN</td>\n",
              "      <td>0.0</td>\n",
              "      <td>0.0</td>\n",
              "      <td>0.0</td>\n",
              "      <td>0.0</td>\n",
              "    </tr>\n",
              "    <tr>\n",
              "      <th>3</th>\n",
              "      <td>fr.antoinettefleur.Book1</td>\n",
              "      <td>A-F Book #1</td>\n",
              "      <td>https://apps.apple.com/us/app/a-f-book-1/id500...</td>\n",
              "      <td>Book</td>\n",
              "      <td>4+</td>\n",
              "      <td>81851392</td>\n",
              "      <td>8.0</td>\n",
              "      <td>2012-02-10T03:40:07Z</td>\n",
              "      <td>2019-10-29T12:40:37Z</td>\n",
              "      <td>1.2</td>\n",
              "      <td>...</td>\n",
              "      <td>USD</td>\n",
              "      <td>False</td>\n",
              "      <td>4.395688e+08</td>\n",
              "      <td>i-editeur.com</td>\n",
              "      <td>https://apps.apple.com/us/developer/i-editeur-...</td>\n",
              "      <td>NaN</td>\n",
              "      <td>0.0</td>\n",
              "      <td>0.0</td>\n",
              "      <td>0.0</td>\n",
              "      <td>0.0</td>\n",
              "    </tr>\n",
              "    <tr>\n",
              "      <th>4</th>\n",
              "      <td>com.imonstersoft.azdictionaryios</td>\n",
              "      <td>A-Z Synonyms Dictionary</td>\n",
              "      <td>https://apps.apple.com/us/app/a-z-synonyms-dic...</td>\n",
              "      <td>Reference</td>\n",
              "      <td>4+</td>\n",
              "      <td>64692224</td>\n",
              "      <td>9.0</td>\n",
              "      <td>2020-12-16T08:00:00Z</td>\n",
              "      <td>2020-12-18T21:36:11Z</td>\n",
              "      <td>1.0.1</td>\n",
              "      <td>...</td>\n",
              "      <td>USD</td>\n",
              "      <td>True</td>\n",
              "      <td>6.567318e+08</td>\n",
              "      <td>Ngov chiheang</td>\n",
              "      <td>https://apps.apple.com/us/developer/ngov-chihe...</td>\n",
              "      <td>http://imonstersoft.com</td>\n",
              "      <td>0.0</td>\n",
              "      <td>0.0</td>\n",
              "      <td>0.0</td>\n",
              "      <td>0.0</td>\n",
              "    </tr>\n",
              "  </tbody>\n",
              "</table>\n",
              "<p>5 rows × 21 columns</p>\n",
              "</div>\n",
              "    <div class=\"colab-df-buttons\">\n",
              "\n",
              "  <div class=\"colab-df-container\">\n",
              "    <button class=\"colab-df-convert\" onclick=\"convertToInteractive('df-9cbc2f30-64b8-46a4-abd3-e5443037c5ee')\"\n",
              "            title=\"Convert this dataframe to an interactive table.\"\n",
              "            style=\"display:none;\">\n",
              "\n",
              "  <svg xmlns=\"http://www.w3.org/2000/svg\" height=\"24px\" viewBox=\"0 -960 960 960\">\n",
              "    <path d=\"M120-120v-720h720v720H120Zm60-500h600v-160H180v160Zm220 220h160v-160H400v160Zm0 220h160v-160H400v160ZM180-400h160v-160H180v160Zm440 0h160v-160H620v160ZM180-180h160v-160H180v160Zm440 0h160v-160H620v160Z\"/>\n",
              "  </svg>\n",
              "    </button>\n",
              "\n",
              "  <style>\n",
              "    .colab-df-container {\n",
              "      display:flex;\n",
              "      gap: 12px;\n",
              "    }\n",
              "\n",
              "    .colab-df-convert {\n",
              "      background-color: #E8F0FE;\n",
              "      border: none;\n",
              "      border-radius: 50%;\n",
              "      cursor: pointer;\n",
              "      display: none;\n",
              "      fill: #1967D2;\n",
              "      height: 32px;\n",
              "      padding: 0 0 0 0;\n",
              "      width: 32px;\n",
              "    }\n",
              "\n",
              "    .colab-df-convert:hover {\n",
              "      background-color: #E2EBFA;\n",
              "      box-shadow: 0px 1px 2px rgba(60, 64, 67, 0.3), 0px 1px 3px 1px rgba(60, 64, 67, 0.15);\n",
              "      fill: #174EA6;\n",
              "    }\n",
              "\n",
              "    .colab-df-buttons div {\n",
              "      margin-bottom: 4px;\n",
              "    }\n",
              "\n",
              "    [theme=dark] .colab-df-convert {\n",
              "      background-color: #3B4455;\n",
              "      fill: #D2E3FC;\n",
              "    }\n",
              "\n",
              "    [theme=dark] .colab-df-convert:hover {\n",
              "      background-color: #434B5C;\n",
              "      box-shadow: 0px 1px 3px 1px rgba(0, 0, 0, 0.15);\n",
              "      filter: drop-shadow(0px 1px 2px rgba(0, 0, 0, 0.3));\n",
              "      fill: #FFFFFF;\n",
              "    }\n",
              "  </style>\n",
              "\n",
              "    <script>\n",
              "      const buttonEl =\n",
              "        document.querySelector('#df-9cbc2f30-64b8-46a4-abd3-e5443037c5ee button.colab-df-convert');\n",
              "      buttonEl.style.display =\n",
              "        google.colab.kernel.accessAllowed ? 'block' : 'none';\n",
              "\n",
              "      async function convertToInteractive(key) {\n",
              "        const element = document.querySelector('#df-9cbc2f30-64b8-46a4-abd3-e5443037c5ee');\n",
              "        const dataTable =\n",
              "          await google.colab.kernel.invokeFunction('convertToInteractive',\n",
              "                                                    [key], {});\n",
              "        if (!dataTable) return;\n",
              "\n",
              "        const docLinkHtml = 'Like what you see? Visit the ' +\n",
              "          '<a target=\"_blank\" href=https://colab.research.google.com/notebooks/data_table.ipynb>data table notebook</a>'\n",
              "          + ' to learn more about interactive tables.';\n",
              "        element.innerHTML = '';\n",
              "        dataTable['output_type'] = 'display_data';\n",
              "        await google.colab.output.renderOutput(dataTable, element);\n",
              "        const docLink = document.createElement('div');\n",
              "        docLink.innerHTML = docLinkHtml;\n",
              "        element.appendChild(docLink);\n",
              "      }\n",
              "    </script>\n",
              "  </div>\n",
              "\n",
              "\n",
              "<div id=\"df-199df05d-3103-4586-b6d7-7c832cce236b\">\n",
              "  <button class=\"colab-df-quickchart\" onclick=\"quickchart('df-199df05d-3103-4586-b6d7-7c832cce236b')\"\n",
              "            title=\"Suggest charts\"\n",
              "            style=\"display:none;\">\n",
              "\n",
              "<svg xmlns=\"http://www.w3.org/2000/svg\" height=\"24px\"viewBox=\"0 0 24 24\"\n",
              "     width=\"24px\">\n",
              "    <g>\n",
              "        <path d=\"M19 3H5c-1.1 0-2 .9-2 2v14c0 1.1.9 2 2 2h14c1.1 0 2-.9 2-2V5c0-1.1-.9-2-2-2zM9 17H7v-7h2v7zm4 0h-2V7h2v10zm4 0h-2v-4h2v4z\"/>\n",
              "    </g>\n",
              "</svg>\n",
              "  </button>\n",
              "\n",
              "<style>\n",
              "  .colab-df-quickchart {\n",
              "      --bg-color: #E8F0FE;\n",
              "      --fill-color: #1967D2;\n",
              "      --hover-bg-color: #E2EBFA;\n",
              "      --hover-fill-color: #174EA6;\n",
              "      --disabled-fill-color: #AAA;\n",
              "      --disabled-bg-color: #DDD;\n",
              "  }\n",
              "\n",
              "  [theme=dark] .colab-df-quickchart {\n",
              "      --bg-color: #3B4455;\n",
              "      --fill-color: #D2E3FC;\n",
              "      --hover-bg-color: #434B5C;\n",
              "      --hover-fill-color: #FFFFFF;\n",
              "      --disabled-bg-color: #3B4455;\n",
              "      --disabled-fill-color: #666;\n",
              "  }\n",
              "\n",
              "  .colab-df-quickchart {\n",
              "    background-color: var(--bg-color);\n",
              "    border: none;\n",
              "    border-radius: 50%;\n",
              "    cursor: pointer;\n",
              "    display: none;\n",
              "    fill: var(--fill-color);\n",
              "    height: 32px;\n",
              "    padding: 0;\n",
              "    width: 32px;\n",
              "  }\n",
              "\n",
              "  .colab-df-quickchart:hover {\n",
              "    background-color: var(--hover-bg-color);\n",
              "    box-shadow: 0 1px 2px rgba(60, 64, 67, 0.3), 0 1px 3px 1px rgba(60, 64, 67, 0.15);\n",
              "    fill: var(--button-hover-fill-color);\n",
              "  }\n",
              "\n",
              "  .colab-df-quickchart-complete:disabled,\n",
              "  .colab-df-quickchart-complete:disabled:hover {\n",
              "    background-color: var(--disabled-bg-color);\n",
              "    fill: var(--disabled-fill-color);\n",
              "    box-shadow: none;\n",
              "  }\n",
              "\n",
              "  .colab-df-spinner {\n",
              "    border: 2px solid var(--fill-color);\n",
              "    border-color: transparent;\n",
              "    border-bottom-color: var(--fill-color);\n",
              "    animation:\n",
              "      spin 1s steps(1) infinite;\n",
              "  }\n",
              "\n",
              "  @keyframes spin {\n",
              "    0% {\n",
              "      border-color: transparent;\n",
              "      border-bottom-color: var(--fill-color);\n",
              "      border-left-color: var(--fill-color);\n",
              "    }\n",
              "    20% {\n",
              "      border-color: transparent;\n",
              "      border-left-color: var(--fill-color);\n",
              "      border-top-color: var(--fill-color);\n",
              "    }\n",
              "    30% {\n",
              "      border-color: transparent;\n",
              "      border-left-color: var(--fill-color);\n",
              "      border-top-color: var(--fill-color);\n",
              "      border-right-color: var(--fill-color);\n",
              "    }\n",
              "    40% {\n",
              "      border-color: transparent;\n",
              "      border-right-color: var(--fill-color);\n",
              "      border-top-color: var(--fill-color);\n",
              "    }\n",
              "    60% {\n",
              "      border-color: transparent;\n",
              "      border-right-color: var(--fill-color);\n",
              "    }\n",
              "    80% {\n",
              "      border-color: transparent;\n",
              "      border-right-color: var(--fill-color);\n",
              "      border-bottom-color: var(--fill-color);\n",
              "    }\n",
              "    90% {\n",
              "      border-color: transparent;\n",
              "      border-bottom-color: var(--fill-color);\n",
              "    }\n",
              "  }\n",
              "</style>\n",
              "\n",
              "  <script>\n",
              "    async function quickchart(key) {\n",
              "      const quickchartButtonEl =\n",
              "        document.querySelector('#' + key + ' button');\n",
              "      quickchartButtonEl.disabled = true;  // To prevent multiple clicks.\n",
              "      quickchartButtonEl.classList.add('colab-df-spinner');\n",
              "      try {\n",
              "        const charts = await google.colab.kernel.invokeFunction(\n",
              "            'suggestCharts', [key], {});\n",
              "      } catch (error) {\n",
              "        console.error('Error during call to suggestCharts:', error);\n",
              "      }\n",
              "      quickchartButtonEl.classList.remove('colab-df-spinner');\n",
              "      quickchartButtonEl.classList.add('colab-df-quickchart-complete');\n",
              "    }\n",
              "    (() => {\n",
              "      let quickchartButtonEl =\n",
              "        document.querySelector('#df-199df05d-3103-4586-b6d7-7c832cce236b button');\n",
              "      quickchartButtonEl.style.display =\n",
              "        google.colab.kernel.accessAllowed ? 'block' : 'none';\n",
              "    })();\n",
              "  </script>\n",
              "</div>\n",
              "\n",
              "    </div>\n",
              "  </div>\n"
            ]
          },
          "metadata": {},
          "execution_count": 31
        }
      ]
    },
    {
      "cell_type": "code",
      "source": [
        "print(df)"
      ],
      "metadata": {
        "colab": {
          "base_uri": "https://localhost:8080/"
        },
        "id": "ErdHb5enRcNF",
        "outputId": "6dd814bf-7a0f-412e-f44a-a34eac0b8528"
      },
      "execution_count": null,
      "outputs": [
        {
          "output_type": "stream",
          "name": "stdout",
          "text": [
            "                                     App_Id                 App_Name  \\\n",
            "0                       com.hkbu.arc.apaper           A+ Paper Guide   \n",
            "1                       com.dmitriev.abooks                  A-Books   \n",
            "2                            no.terp.abooks                  A-books   \n",
            "3                  fr.antoinettefleur.Book1              A-F Book #1   \n",
            "4          com.imonstersoft.azdictionaryios  A-Z Synonyms Dictionary   \n",
            "...                                     ...                      ...   \n",
            "22124                     com.rrms.raillinq                Rail LinQ   \n",
            "22125                  com.bauermedia.fv.rl                Rail Live   \n",
            "22126  com.maharajaassociates.SliderExample         Rail Suraksha tp   \n",
            "22127                    com.railtasker.app              Rail Tasker   \n",
            "22128                   ru.ctm.rail-locator             Rail-Локатор   \n",
            "\n",
            "                                            AppStore_Url Primary_Genre  \\\n",
            "0      https://apps.apple.com/us/app/a-paper-guide/id...     Education   \n",
            "1      https://apps.apple.com/us/app/a-books/id103157...          Book   \n",
            "2      https://apps.apple.com/us/app/a-books/id145702...          Book   \n",
            "3      https://apps.apple.com/us/app/a-f-book-1/id500...          Book   \n",
            "4      https://apps.apple.com/us/app/a-z-synonyms-dic...     Reference   \n",
            "...                                                  ...           ...   \n",
            "22124  https://apps.apple.com/us/app/rail-linq/id1452...      Business   \n",
            "22125  https://apps.apple.com/us/app/rail-live/id1565...      Business   \n",
            "22126  https://apps.apple.com/us/app/rail-suraksha-tp...      Business   \n",
            "22127  https://apps.apple.com/us/app/rail-tasker/id14...      Business   \n",
            "22128  https://apps.apple.com/us/app/rail-%D0%BB%D0%B...      Business   \n",
            "\n",
            "      Content_Rating  Size_Bytes Required_IOS_Version              Released  \\\n",
            "0                 4+    21993472                  8.0  2017-09-28T03:02:41Z   \n",
            "1                 4+    13135872                 10.0  2015-08-31T19:31:32Z   \n",
            "2                 4+    21943296                  9.0  2021-04-14T07:00:00Z   \n",
            "3                 4+    81851392                  8.0  2012-02-10T03:40:07Z   \n",
            "4                 4+    64692224                  9.0  2020-12-16T08:00:00Z   \n",
            "...              ...         ...                  ...                   ...   \n",
            "22124             4+    78453760                 12.0  2019-07-30T07:00:00Z   \n",
            "22125             4+    93124608                  8.0  2021-05-05T07:00:00Z   \n",
            "22126             9+    27524096                 11.4  2018-10-23T20:22:09Z   \n",
            "22127             4+    28016640                 12.0  2019-10-02T07:00:00Z   \n",
            "22128             4+   105987072                 11.0              2019-04-   \n",
            "\n",
            "                    Updated Version  ...  Currency   Free   DeveloperId  \\\n",
            "0      2018-12-21T21:30:36Z   1.1.2  ...       USD   True  1.375411e+09   \n",
            "1      2019-07-23T20:31:09Z     1.3  ...       USD   True  1.031572e+09   \n",
            "2      2021-05-30T21:08:54Z   1.3.1  ...       USD   True  1.457024e+09   \n",
            "3      2019-10-29T12:40:37Z     1.2  ...       USD  False  4.395688e+08   \n",
            "4      2020-12-18T21:36:11Z   1.0.1  ...       USD   True  6.567318e+08   \n",
            "...                     ...     ...  ...       ...    ...           ...   \n",
            "22124  2021-06-01T16:39:03Z  1.59.0  ...       USD   True  1.085985e+09   \n",
            "22125  2021-06-15T06:09:28Z   1.0.4  ...       USD   True  3.766235e+08   \n",
            "22126  2018-10-23T20:22:09Z     1.9  ...       USD   True  1.439193e+09   \n",
            "22127  2021-09-22T17:37:07Z  1.27.0  ...       USD   True  1.470059e+09   \n",
            "22128                   NaN     NaN  ...       NaN    NaN           NaN   \n",
            "\n",
            "                      Developer  \\\n",
            "0                      HKBU ARC   \n",
            "1                Roman Dmitriev   \n",
            "2                       Terp AS   \n",
            "3                 i-editeur.com   \n",
            "4                 Ngov chiheang   \n",
            "...                         ...   \n",
            "22124                     WCLMS   \n",
            "22125                  CIRCDATA   \n",
            "22126            Manan Maharaja   \n",
            "22127  Spark Training Solutions   \n",
            "22128                       NaN   \n",
            "\n",
            "                                           Developer_Url  \\\n",
            "0      https://apps.apple.com/us/developer/hkbu-arc/i...   \n",
            "1      https://apps.apple.com/us/developer/roman-dmit...   \n",
            "2      https://apps.apple.com/us/developer/terp-as/id...   \n",
            "3      https://apps.apple.com/us/developer/i-editeur-...   \n",
            "4      https://apps.apple.com/us/developer/ngov-chihe...   \n",
            "...                                                  ...   \n",
            "22124  https://apps.apple.com/us/developer/wclms/id10...   \n",
            "22125  https://apps.apple.com/us/developer/circdata/i...   \n",
            "22126  https://apps.apple.com/us/developer/manan-maha...   \n",
            "22127  https://apps.apple.com/us/developer/spark-trai...   \n",
            "22128                                                NaN   \n",
            "\n",
            "             Developer_Website Average_User_Rating  Reviews  \\\n",
            "0                          NaN                 0.0      0.0   \n",
            "1                          NaN                 5.0      1.0   \n",
            "2                          NaN                 0.0      0.0   \n",
            "3                          NaN                 0.0      0.0   \n",
            "4      http://imonstersoft.com                 0.0      0.0   \n",
            "...                        ...                 ...      ...   \n",
            "22124     http://wclms.com.au/                 0.0      0.0   \n",
            "22125                      NaN                 0.0      0.0   \n",
            "22126                      NaN                 0.0      0.0   \n",
            "22127                      NaN                 5.0      4.0   \n",
            "22128                      NaN                 NaN      NaN   \n",
            "\n",
            "       Current_Version_Score  Current_Version_Reviews  \n",
            "0                        0.0                      0.0  \n",
            "1                        5.0                      1.0  \n",
            "2                        0.0                      0.0  \n",
            "3                        0.0                      0.0  \n",
            "4                        0.0                      0.0  \n",
            "...                      ...                      ...  \n",
            "22124                    0.0                      0.0  \n",
            "22125                    0.0                      0.0  \n",
            "22126                    0.0                      0.0  \n",
            "22127                    5.0                      4.0  \n",
            "22128                    NaN                      NaN  \n",
            "\n",
            "[22129 rows x 21 columns]\n"
          ]
        }
      ]
    },
    {
      "cell_type": "code",
      "source": [
        "print(pd.options.display.max_rows)"
      ],
      "metadata": {
        "colab": {
          "base_uri": "https://localhost:8080/"
        },
        "id": "_MMEOoW_RkJb",
        "outputId": "b572907d-97e8-43d8-a024-f07389e8d1d0"
      },
      "execution_count": null,
      "outputs": [
        {
          "output_type": "stream",
          "name": "stdout",
          "text": [
            "60\n"
          ]
        }
      ]
    },
    {
      "cell_type": "code",
      "source": [
        "pd.options.display.max_rows = 9999"
      ],
      "metadata": {
        "id": "MvEm13hxRrqP"
      },
      "execution_count": null,
      "outputs": []
    },
    {
      "cell_type": "code",
      "source": [
        "print(df.head(10))"
      ],
      "metadata": {
        "colab": {
          "base_uri": "https://localhost:8080/"
        },
        "id": "DEwML59ZRxzF",
        "outputId": "c0aa031d-aa4f-4cee-bbd6-f6009d84fbb4"
      },
      "execution_count": null,
      "outputs": [
        {
          "output_type": "stream",
          "name": "stdout",
          "text": [
            "                             App_Id  \\\n",
            "0               com.hkbu.arc.apaper   \n",
            "1               com.dmitriev.abooks   \n",
            "2                    no.terp.abooks   \n",
            "3          fr.antoinettefleur.Book1   \n",
            "4  com.imonstersoft.azdictionaryios   \n",
            "5                   com.sm.apjkalam   \n",
            "6    com.chawlapublication.andhralr   \n",
            "7  BestPracticeSystems.IOSAppUpload   \n",
            "8                    a2.it.team.leo   \n",
            "9                   com.aaaakh.news   \n",
            "\n",
            "                                            App_Name  \\\n",
            "0                                     A+ Paper Guide   \n",
            "1                                            A-Books   \n",
            "2                                            A-books   \n",
            "3                                        A-F Book #1   \n",
            "4                            A-Z Synonyms Dictionary   \n",
            "5  A. P. J. Abdul Kalam Quotes olx Quotation Flip...   \n",
            "6                       A.P. Telangana Legal Reports   \n",
            "7                             A19BestPracticeSystems   \n",
            "8                                       A2 Directory   \n",
            "9                                            A4 News   \n",
            "\n",
            "                                        AppStore_Url Primary_Genre  \\\n",
            "0  https://apps.apple.com/us/app/a-paper-guide/id...     Education   \n",
            "1  https://apps.apple.com/us/app/a-books/id103157...          Book   \n",
            "2  https://apps.apple.com/us/app/a-books/id145702...          Book   \n",
            "3  https://apps.apple.com/us/app/a-f-book-1/id500...          Book   \n",
            "4  https://apps.apple.com/us/app/a-z-synonyms-dic...     Reference   \n",
            "5  https://apps.apple.com/us/app/a-p-j-abdul-kala...          Book   \n",
            "6  https://apps.apple.com/us/app/a-p-telangana-le...          Book   \n",
            "7  https://apps.apple.com/us/app/a19bestpractices...          Book   \n",
            "8  https://apps.apple.com/us/app/a2-directory/id1...          Book   \n",
            "9  https://apps.apple.com/us/app/a4-news/id145538...          News   \n",
            "\n",
            "  Content_Rating  Size_Bytes Required_IOS_Version              Released  \\\n",
            "0             4+    21993472                  8.0  2017-09-28T03:02:41Z   \n",
            "1             4+    13135872                 10.0  2015-08-31T19:31:32Z   \n",
            "2             4+    21943296                  9.0  2021-04-14T07:00:00Z   \n",
            "3             4+    81851392                  8.0  2012-02-10T03:40:07Z   \n",
            "4             4+    64692224                  9.0  2020-12-16T08:00:00Z   \n",
            "5             4+    18073600                  7.1  2016-09-17T03:28:31Z   \n",
            "6             4+   105213952                  8.0  2021-07-06T07:00:00Z   \n",
            "7             4+    15737856                 12.0  2020-10-17T07:00:00Z   \n",
            "8             4+    68765696                 11.0  2020-10-27T07:00:00Z   \n",
            "9             4+    13825024                 13.0  2019-05-24T14:20:55Z   \n",
            "\n",
            "                Updated Version  ...  Currency   Free   DeveloperId  \\\n",
            "0  2018-12-21T21:30:36Z   1.1.2  ...       USD   True  1.375411e+09   \n",
            "1  2019-07-23T20:31:09Z     1.3  ...       USD   True  1.031572e+09   \n",
            "2  2021-05-30T21:08:54Z   1.3.1  ...       USD   True  1.457024e+09   \n",
            "3  2019-10-29T12:40:37Z     1.2  ...       USD  False  4.395688e+08   \n",
            "4  2020-12-18T21:36:11Z   1.0.1  ...       USD   True  6.567318e+08   \n",
            "5  2016-11-13T21:01:39Z     1.4  ...       USD   True  1.146730e+09   \n",
            "6  2021-07-19T20:20:47Z     1.3  ...       USD   True  1.228484e+09   \n",
            "7  2020-10-19T18:55:40Z     2.1  ...       USD   True  1.535421e+09   \n",
            "8  2021-01-11T10:00:12Z   1.0.2  ...       USD   True  1.179895e+09   \n",
            "9  2020-09-29T15:28:14Z     2.0  ...       USD   True  5.868675e+08   \n",
            "\n",
            "                    Developer  \\\n",
            "0                    HKBU ARC   \n",
            "1              Roman Dmitriev   \n",
            "2                     Terp AS   \n",
            "3               i-editeur.com   \n",
            "4               Ngov chiheang   \n",
            "5                 Shera Majid   \n",
            "6             Bhagatjit Singh   \n",
            "7                Gregor Anton   \n",
            "8  SurfEdge (Private) Limited   \n",
            "9               Pich Prathana   \n",
            "\n",
            "                                       Developer_Url  \\\n",
            "0  https://apps.apple.com/us/developer/hkbu-arc/i...   \n",
            "1  https://apps.apple.com/us/developer/roman-dmit...   \n",
            "2  https://apps.apple.com/us/developer/terp-as/id...   \n",
            "3  https://apps.apple.com/us/developer/i-editeur-...   \n",
            "4  https://apps.apple.com/us/developer/ngov-chihe...   \n",
            "5  https://apps.apple.com/us/developer/shera-maji...   \n",
            "6  https://apps.apple.com/us/developer/bhagatjit-...   \n",
            "7  https://apps.apple.com/us/developer/gregor-ant...   \n",
            "8  https://apps.apple.com/us/developer/surfedge-p...   \n",
            "9  https://apps.apple.com/us/developer/pich-prath...   \n",
            "\n",
            "                                   Developer_Website Average_User_Rating  \\\n",
            "0                                                NaN                 0.0   \n",
            "1                                                NaN                 5.0   \n",
            "2                                                NaN                 0.0   \n",
            "3                                                NaN                 0.0   \n",
            "4                            http://imonstersoft.com                 0.0   \n",
            "5                                                NaN                 0.0   \n",
            "6                                                NaN                 0.0   \n",
            "7  https://bestpractice.systems/about-ios-mobile-...                 0.0   \n",
            "8                                                NaN                 0.0   \n",
            "9                            https://www.softive.com                 0.0   \n",
            "\n",
            "   Reviews  Current_Version_Score  Current_Version_Reviews  \n",
            "0      0.0                    0.0                      0.0  \n",
            "1      1.0                    5.0                      1.0  \n",
            "2      0.0                    0.0                      0.0  \n",
            "3      0.0                    0.0                      0.0  \n",
            "4      0.0                    0.0                      0.0  \n",
            "5      0.0                    0.0                      0.0  \n",
            "6      0.0                    0.0                      0.0  \n",
            "7      0.0                    0.0                      0.0  \n",
            "8      0.0                    0.0                      0.0  \n",
            "9      0.0                    0.0                      0.0  \n",
            "\n",
            "[10 rows x 21 columns]\n"
          ]
        }
      ]
    },
    {
      "cell_type": "code",
      "source": [
        "print(df.info())"
      ],
      "metadata": {
        "colab": {
          "base_uri": "https://localhost:8080/"
        },
        "id": "k84mjWp0SSVq",
        "outputId": "1629fb80-a915-4dc4-b605-a034fd1b6bad"
      },
      "execution_count": null,
      "outputs": [
        {
          "output_type": "stream",
          "name": "stdout",
          "text": [
            "<class 'pandas.core.frame.DataFrame'>\n",
            "RangeIndex: 22129 entries, 0 to 22128\n",
            "Data columns (total 21 columns):\n",
            " #   Column                   Non-Null Count  Dtype  \n",
            "---  ------                   --------------  -----  \n",
            " 0   App_Id                   22129 non-null  object \n",
            " 1   App_Name                 22129 non-null  object \n",
            " 2   AppStore_Url             22129 non-null  object \n",
            " 3   Primary_Genre            22129 non-null  object \n",
            " 4   Content_Rating           22129 non-null  object \n",
            " 5   Size_Bytes               22129 non-null  int64  \n",
            " 6   Required_IOS_Version     22129 non-null  object \n",
            " 7   Released                 22129 non-null  object \n",
            " 8   Updated                  22128 non-null  object \n",
            " 9   Version                  22128 non-null  object \n",
            " 10  Price                    22128 non-null  float64\n",
            " 11  Currency                 22128 non-null  object \n",
            " 12  Free                     22128 non-null  object \n",
            " 13  DeveloperId              22128 non-null  float64\n",
            " 14  Developer                22128 non-null  object \n",
            " 15  Developer_Url            22114 non-null  object \n",
            " 16  Developer_Website        10893 non-null  object \n",
            " 17  Average_User_Rating      22128 non-null  float64\n",
            " 18  Reviews                  22128 non-null  float64\n",
            " 19  Current_Version_Score    22128 non-null  float64\n",
            " 20  Current_Version_Reviews  22128 non-null  float64\n",
            "dtypes: float64(6), int64(1), object(14)\n",
            "memory usage: 3.5+ MB\n",
            "None\n"
          ]
        }
      ]
    },
    {
      "cell_type": "code",
      "source": [
        "print(df.tail())"
      ],
      "metadata": {
        "colab": {
          "base_uri": "https://localhost:8080/"
        },
        "id": "eMSqw4vzSUbg",
        "outputId": "e4fb8fe8-017a-4489-b02e-4606d13fef38"
      },
      "execution_count": null,
      "outputs": [
        {
          "output_type": "stream",
          "name": "stdout",
          "text": [
            "                                     App_Id          App_Name  \\\n",
            "22124                     com.rrms.raillinq         Rail LinQ   \n",
            "22125                  com.bauermedia.fv.rl         Rail Live   \n",
            "22126  com.maharajaassociates.SliderExample  Rail Suraksha tp   \n",
            "22127                    com.railtasker.app       Rail Tasker   \n",
            "22128                   ru.ctm.rail-locator      Rail-Локатор   \n",
            "\n",
            "                                            AppStore_Url Primary_Genre  \\\n",
            "22124  https://apps.apple.com/us/app/rail-linq/id1452...      Business   \n",
            "22125  https://apps.apple.com/us/app/rail-live/id1565...      Business   \n",
            "22126  https://apps.apple.com/us/app/rail-suraksha-tp...      Business   \n",
            "22127  https://apps.apple.com/us/app/rail-tasker/id14...      Business   \n",
            "22128  https://apps.apple.com/us/app/rail-%D0%BB%D0%B...      Business   \n",
            "\n",
            "      Content_Rating  Size_Bytes Required_IOS_Version              Released  \\\n",
            "22124             4+    78453760                 12.0  2019-07-30T07:00:00Z   \n",
            "22125             4+    93124608                  8.0  2021-05-05T07:00:00Z   \n",
            "22126             9+    27524096                 11.4  2018-10-23T20:22:09Z   \n",
            "22127             4+    28016640                 12.0  2019-10-02T07:00:00Z   \n",
            "22128             4+   105987072                 11.0              2019-04-   \n",
            "\n",
            "                    Updated Version  ...  Currency  Free   DeveloperId  \\\n",
            "22124  2021-06-01T16:39:03Z  1.59.0  ...       USD  True  1.085985e+09   \n",
            "22125  2021-06-15T06:09:28Z   1.0.4  ...       USD  True  3.766235e+08   \n",
            "22126  2018-10-23T20:22:09Z     1.9  ...       USD  True  1.439193e+09   \n",
            "22127  2021-09-22T17:37:07Z  1.27.0  ...       USD  True  1.470059e+09   \n",
            "22128                   NaN     NaN  ...       NaN   NaN           NaN   \n",
            "\n",
            "                      Developer  \\\n",
            "22124                     WCLMS   \n",
            "22125                  CIRCDATA   \n",
            "22126            Manan Maharaja   \n",
            "22127  Spark Training Solutions   \n",
            "22128                       NaN   \n",
            "\n",
            "                                           Developer_Url  \\\n",
            "22124  https://apps.apple.com/us/developer/wclms/id10...   \n",
            "22125  https://apps.apple.com/us/developer/circdata/i...   \n",
            "22126  https://apps.apple.com/us/developer/manan-maha...   \n",
            "22127  https://apps.apple.com/us/developer/spark-trai...   \n",
            "22128                                                NaN   \n",
            "\n",
            "          Developer_Website Average_User_Rating  Reviews  \\\n",
            "22124  http://wclms.com.au/                 0.0      0.0   \n",
            "22125                   NaN                 0.0      0.0   \n",
            "22126                   NaN                 0.0      0.0   \n",
            "22127                   NaN                 5.0      4.0   \n",
            "22128                   NaN                 NaN      NaN   \n",
            "\n",
            "       Current_Version_Score  Current_Version_Reviews  \n",
            "22124                    0.0                      0.0  \n",
            "22125                    0.0                      0.0  \n",
            "22126                    0.0                      0.0  \n",
            "22127                    5.0                      4.0  \n",
            "22128                    NaN                      NaN  \n",
            "\n",
            "[5 rows x 21 columns]\n"
          ]
        }
      ]
    },
    {
      "cell_type": "code",
      "source": [
        "new_df = df.dropna()"
      ],
      "metadata": {
        "id": "u4tUPVT8SVlx"
      },
      "execution_count": null,
      "outputs": []
    },
    {
      "cell_type": "code",
      "source": [
        "new_df.head()"
      ],
      "metadata": {
        "colab": {
          "base_uri": "https://localhost:8080/",
          "height": 342
        },
        "id": "mKoOEHIOSsPh",
        "outputId": "4bf99885-f83c-4857-e45a-8cb1581cdbbe"
      },
      "execution_count": null,
      "outputs": [
        {
          "output_type": "execute_result",
          "data": {
            "text/plain": [
              "                              App_Id                        App_Name  \\\n",
              "4   com.imonstersoft.azdictionaryios         A-Z Synonyms Dictionary   \n",
              "7   BestPracticeSystems.IOSAppUpload          A19BestPracticeSystems   \n",
              "9                    com.aaaakh.news                         A4 News   \n",
              "11        com.goodbarber.bigbookfree        AA Big Book (Unofficial)   \n",
              "13            com.aabigbook.appstore  AA Big Book App  -  Unofficial   \n",
              "\n",
              "                                         AppStore_Url Primary_Genre  \\\n",
              "4   https://apps.apple.com/us/app/a-z-synonyms-dic...     Reference   \n",
              "7   https://apps.apple.com/us/app/a19bestpractices...          Book   \n",
              "9   https://apps.apple.com/us/app/a4-news/id145538...          News   \n",
              "11  https://apps.apple.com/us/app/aa-big-book-unof...          Book   \n",
              "13  https://apps.apple.com/us/app/aa-big-book-app-...          Book   \n",
              "\n",
              "   Content_Rating  Size_Bytes Required_IOS_Version              Released  \\\n",
              "4              4+    64692224                  9.0  2020-12-16T08:00:00Z   \n",
              "7              4+    15737856                 12.0  2020-10-17T07:00:00Z   \n",
              "9              4+    13825024                 13.0  2019-05-24T14:20:55Z   \n",
              "11            17+    63112192                  9.0  2015-05-12T07:45:22Z   \n",
              "13            17+     2094080                  8.0  2015-12-19T00:41:11Z   \n",
              "\n",
              "                 Updated Version  ...  Currency   Free   DeveloperId  \\\n",
              "4   2020-12-18T21:36:11Z   1.0.1  ...       USD   True  6.567318e+08   \n",
              "7   2020-10-19T18:55:40Z     2.1  ...       USD   True  1.535421e+09   \n",
              "9   2020-09-29T15:28:14Z     2.0  ...       USD   True  5.868675e+08   \n",
              "11  2021-09-18T18:55:21Z  2.2.16  ...       USD   True  1.473748e+09   \n",
              "13  2018-10-17T20:01:47Z   1.4.2  ...       USD  False  2.957757e+08   \n",
              "\n",
              "            Developer                                      Developer_Url  \\\n",
              "4       Ngov chiheang  https://apps.apple.com/us/developer/ngov-chihe...   \n",
              "7        Gregor Anton  https://apps.apple.com/us/developer/gregor-ant...   \n",
              "9       Pich Prathana  https://apps.apple.com/us/developer/pich-prath...   \n",
              "11  Sobriety Soft LLC  https://apps.apple.com/us/developer/sobriety-s...   \n",
              "13          Dean Huff  https://apps.apple.com/us/developer/dean-huff/...   \n",
              "\n",
              "                                    Developer_Website Average_User_Rating  \\\n",
              "4                             http://imonstersoft.com             0.00000   \n",
              "7   https://bestpractice.systems/about-ios-mobile-...             0.00000   \n",
              "9                             https://www.softive.com             0.00000   \n",
              "11                            http://sobrietysoft.org             4.78902   \n",
              "13                            http://aabigbookapp.com             3.09524   \n",
              "\n",
              "    Reviews  Current_Version_Score  Current_Version_Reviews  \n",
              "4       0.0                0.00000                      0.0  \n",
              "7       0.0                0.00000                      0.0  \n",
              "9       0.0                0.00000                      0.0  \n",
              "11   1839.0                4.78902                   1839.0  \n",
              "13     21.0                3.09524                     21.0  \n",
              "\n",
              "[5 rows x 21 columns]"
            ],
            "text/html": [
              "\n",
              "  <div id=\"df-49bbd332-5e3c-4041-845a-65f20e27a7ff\" class=\"colab-df-container\">\n",
              "    <div>\n",
              "<style scoped>\n",
              "    .dataframe tbody tr th:only-of-type {\n",
              "        vertical-align: middle;\n",
              "    }\n",
              "\n",
              "    .dataframe tbody tr th {\n",
              "        vertical-align: top;\n",
              "    }\n",
              "\n",
              "    .dataframe thead th {\n",
              "        text-align: right;\n",
              "    }\n",
              "</style>\n",
              "<table border=\"1\" class=\"dataframe\">\n",
              "  <thead>\n",
              "    <tr style=\"text-align: right;\">\n",
              "      <th></th>\n",
              "      <th>App_Id</th>\n",
              "      <th>App_Name</th>\n",
              "      <th>AppStore_Url</th>\n",
              "      <th>Primary_Genre</th>\n",
              "      <th>Content_Rating</th>\n",
              "      <th>Size_Bytes</th>\n",
              "      <th>Required_IOS_Version</th>\n",
              "      <th>Released</th>\n",
              "      <th>Updated</th>\n",
              "      <th>Version</th>\n",
              "      <th>...</th>\n",
              "      <th>Currency</th>\n",
              "      <th>Free</th>\n",
              "      <th>DeveloperId</th>\n",
              "      <th>Developer</th>\n",
              "      <th>Developer_Url</th>\n",
              "      <th>Developer_Website</th>\n",
              "      <th>Average_User_Rating</th>\n",
              "      <th>Reviews</th>\n",
              "      <th>Current_Version_Score</th>\n",
              "      <th>Current_Version_Reviews</th>\n",
              "    </tr>\n",
              "  </thead>\n",
              "  <tbody>\n",
              "    <tr>\n",
              "      <th>4</th>\n",
              "      <td>com.imonstersoft.azdictionaryios</td>\n",
              "      <td>A-Z Synonyms Dictionary</td>\n",
              "      <td>https://apps.apple.com/us/app/a-z-synonyms-dic...</td>\n",
              "      <td>Reference</td>\n",
              "      <td>4+</td>\n",
              "      <td>64692224</td>\n",
              "      <td>9.0</td>\n",
              "      <td>2020-12-16T08:00:00Z</td>\n",
              "      <td>2020-12-18T21:36:11Z</td>\n",
              "      <td>1.0.1</td>\n",
              "      <td>...</td>\n",
              "      <td>USD</td>\n",
              "      <td>True</td>\n",
              "      <td>6.567318e+08</td>\n",
              "      <td>Ngov chiheang</td>\n",
              "      <td>https://apps.apple.com/us/developer/ngov-chihe...</td>\n",
              "      <td>http://imonstersoft.com</td>\n",
              "      <td>0.00000</td>\n",
              "      <td>0.0</td>\n",
              "      <td>0.00000</td>\n",
              "      <td>0.0</td>\n",
              "    </tr>\n",
              "    <tr>\n",
              "      <th>7</th>\n",
              "      <td>BestPracticeSystems.IOSAppUpload</td>\n",
              "      <td>A19BestPracticeSystems</td>\n",
              "      <td>https://apps.apple.com/us/app/a19bestpractices...</td>\n",
              "      <td>Book</td>\n",
              "      <td>4+</td>\n",
              "      <td>15737856</td>\n",
              "      <td>12.0</td>\n",
              "      <td>2020-10-17T07:00:00Z</td>\n",
              "      <td>2020-10-19T18:55:40Z</td>\n",
              "      <td>2.1</td>\n",
              "      <td>...</td>\n",
              "      <td>USD</td>\n",
              "      <td>True</td>\n",
              "      <td>1.535421e+09</td>\n",
              "      <td>Gregor Anton</td>\n",
              "      <td>https://apps.apple.com/us/developer/gregor-ant...</td>\n",
              "      <td>https://bestpractice.systems/about-ios-mobile-...</td>\n",
              "      <td>0.00000</td>\n",
              "      <td>0.0</td>\n",
              "      <td>0.00000</td>\n",
              "      <td>0.0</td>\n",
              "    </tr>\n",
              "    <tr>\n",
              "      <th>9</th>\n",
              "      <td>com.aaaakh.news</td>\n",
              "      <td>A4 News</td>\n",
              "      <td>https://apps.apple.com/us/app/a4-news/id145538...</td>\n",
              "      <td>News</td>\n",
              "      <td>4+</td>\n",
              "      <td>13825024</td>\n",
              "      <td>13.0</td>\n",
              "      <td>2019-05-24T14:20:55Z</td>\n",
              "      <td>2020-09-29T15:28:14Z</td>\n",
              "      <td>2.0</td>\n",
              "      <td>...</td>\n",
              "      <td>USD</td>\n",
              "      <td>True</td>\n",
              "      <td>5.868675e+08</td>\n",
              "      <td>Pich Prathana</td>\n",
              "      <td>https://apps.apple.com/us/developer/pich-prath...</td>\n",
              "      <td>https://www.softive.com</td>\n",
              "      <td>0.00000</td>\n",
              "      <td>0.0</td>\n",
              "      <td>0.00000</td>\n",
              "      <td>0.0</td>\n",
              "    </tr>\n",
              "    <tr>\n",
              "      <th>11</th>\n",
              "      <td>com.goodbarber.bigbookfree</td>\n",
              "      <td>AA Big Book (Unofficial)</td>\n",
              "      <td>https://apps.apple.com/us/app/aa-big-book-unof...</td>\n",
              "      <td>Book</td>\n",
              "      <td>17+</td>\n",
              "      <td>63112192</td>\n",
              "      <td>9.0</td>\n",
              "      <td>2015-05-12T07:45:22Z</td>\n",
              "      <td>2021-09-18T18:55:21Z</td>\n",
              "      <td>2.2.16</td>\n",
              "      <td>...</td>\n",
              "      <td>USD</td>\n",
              "      <td>True</td>\n",
              "      <td>1.473748e+09</td>\n",
              "      <td>Sobriety Soft LLC</td>\n",
              "      <td>https://apps.apple.com/us/developer/sobriety-s...</td>\n",
              "      <td>http://sobrietysoft.org</td>\n",
              "      <td>4.78902</td>\n",
              "      <td>1839.0</td>\n",
              "      <td>4.78902</td>\n",
              "      <td>1839.0</td>\n",
              "    </tr>\n",
              "    <tr>\n",
              "      <th>13</th>\n",
              "      <td>com.aabigbook.appstore</td>\n",
              "      <td>AA Big Book App  -  Unofficial</td>\n",
              "      <td>https://apps.apple.com/us/app/aa-big-book-app-...</td>\n",
              "      <td>Book</td>\n",
              "      <td>17+</td>\n",
              "      <td>2094080</td>\n",
              "      <td>8.0</td>\n",
              "      <td>2015-12-19T00:41:11Z</td>\n",
              "      <td>2018-10-17T20:01:47Z</td>\n",
              "      <td>1.4.2</td>\n",
              "      <td>...</td>\n",
              "      <td>USD</td>\n",
              "      <td>False</td>\n",
              "      <td>2.957757e+08</td>\n",
              "      <td>Dean Huff</td>\n",
              "      <td>https://apps.apple.com/us/developer/dean-huff/...</td>\n",
              "      <td>http://aabigbookapp.com</td>\n",
              "      <td>3.09524</td>\n",
              "      <td>21.0</td>\n",
              "      <td>3.09524</td>\n",
              "      <td>21.0</td>\n",
              "    </tr>\n",
              "  </tbody>\n",
              "</table>\n",
              "<p>5 rows × 21 columns</p>\n",
              "</div>\n",
              "    <div class=\"colab-df-buttons\">\n",
              "\n",
              "  <div class=\"colab-df-container\">\n",
              "    <button class=\"colab-df-convert\" onclick=\"convertToInteractive('df-49bbd332-5e3c-4041-845a-65f20e27a7ff')\"\n",
              "            title=\"Convert this dataframe to an interactive table.\"\n",
              "            style=\"display:none;\">\n",
              "\n",
              "  <svg xmlns=\"http://www.w3.org/2000/svg\" height=\"24px\" viewBox=\"0 -960 960 960\">\n",
              "    <path d=\"M120-120v-720h720v720H120Zm60-500h600v-160H180v160Zm220 220h160v-160H400v160Zm0 220h160v-160H400v160ZM180-400h160v-160H180v160Zm440 0h160v-160H620v160ZM180-180h160v-160H180v160Zm440 0h160v-160H620v160Z\"/>\n",
              "  </svg>\n",
              "    </button>\n",
              "\n",
              "  <style>\n",
              "    .colab-df-container {\n",
              "      display:flex;\n",
              "      gap: 12px;\n",
              "    }\n",
              "\n",
              "    .colab-df-convert {\n",
              "      background-color: #E8F0FE;\n",
              "      border: none;\n",
              "      border-radius: 50%;\n",
              "      cursor: pointer;\n",
              "      display: none;\n",
              "      fill: #1967D2;\n",
              "      height: 32px;\n",
              "      padding: 0 0 0 0;\n",
              "      width: 32px;\n",
              "    }\n",
              "\n",
              "    .colab-df-convert:hover {\n",
              "      background-color: #E2EBFA;\n",
              "      box-shadow: 0px 1px 2px rgba(60, 64, 67, 0.3), 0px 1px 3px 1px rgba(60, 64, 67, 0.15);\n",
              "      fill: #174EA6;\n",
              "    }\n",
              "\n",
              "    .colab-df-buttons div {\n",
              "      margin-bottom: 4px;\n",
              "    }\n",
              "\n",
              "    [theme=dark] .colab-df-convert {\n",
              "      background-color: #3B4455;\n",
              "      fill: #D2E3FC;\n",
              "    }\n",
              "\n",
              "    [theme=dark] .colab-df-convert:hover {\n",
              "      background-color: #434B5C;\n",
              "      box-shadow: 0px 1px 3px 1px rgba(0, 0, 0, 0.15);\n",
              "      filter: drop-shadow(0px 1px 2px rgba(0, 0, 0, 0.3));\n",
              "      fill: #FFFFFF;\n",
              "    }\n",
              "  </style>\n",
              "\n",
              "    <script>\n",
              "      const buttonEl =\n",
              "        document.querySelector('#df-49bbd332-5e3c-4041-845a-65f20e27a7ff button.colab-df-convert');\n",
              "      buttonEl.style.display =\n",
              "        google.colab.kernel.accessAllowed ? 'block' : 'none';\n",
              "\n",
              "      async function convertToInteractive(key) {\n",
              "        const element = document.querySelector('#df-49bbd332-5e3c-4041-845a-65f20e27a7ff');\n",
              "        const dataTable =\n",
              "          await google.colab.kernel.invokeFunction('convertToInteractive',\n",
              "                                                    [key], {});\n",
              "        if (!dataTable) return;\n",
              "\n",
              "        const docLinkHtml = 'Like what you see? Visit the ' +\n",
              "          '<a target=\"_blank\" href=https://colab.research.google.com/notebooks/data_table.ipynb>data table notebook</a>'\n",
              "          + ' to learn more about interactive tables.';\n",
              "        element.innerHTML = '';\n",
              "        dataTable['output_type'] = 'display_data';\n",
              "        await google.colab.output.renderOutput(dataTable, element);\n",
              "        const docLink = document.createElement('div');\n",
              "        docLink.innerHTML = docLinkHtml;\n",
              "        element.appendChild(docLink);\n",
              "      }\n",
              "    </script>\n",
              "  </div>\n",
              "\n",
              "\n",
              "<div id=\"df-ec4ddf82-0864-4e69-9f62-bd5d9d2bac7e\">\n",
              "  <button class=\"colab-df-quickchart\" onclick=\"quickchart('df-ec4ddf82-0864-4e69-9f62-bd5d9d2bac7e')\"\n",
              "            title=\"Suggest charts\"\n",
              "            style=\"display:none;\">\n",
              "\n",
              "<svg xmlns=\"http://www.w3.org/2000/svg\" height=\"24px\"viewBox=\"0 0 24 24\"\n",
              "     width=\"24px\">\n",
              "    <g>\n",
              "        <path d=\"M19 3H5c-1.1 0-2 .9-2 2v14c0 1.1.9 2 2 2h14c1.1 0 2-.9 2-2V5c0-1.1-.9-2-2-2zM9 17H7v-7h2v7zm4 0h-2V7h2v10zm4 0h-2v-4h2v4z\"/>\n",
              "    </g>\n",
              "</svg>\n",
              "  </button>\n",
              "\n",
              "<style>\n",
              "  .colab-df-quickchart {\n",
              "      --bg-color: #E8F0FE;\n",
              "      --fill-color: #1967D2;\n",
              "      --hover-bg-color: #E2EBFA;\n",
              "      --hover-fill-color: #174EA6;\n",
              "      --disabled-fill-color: #AAA;\n",
              "      --disabled-bg-color: #DDD;\n",
              "  }\n",
              "\n",
              "  [theme=dark] .colab-df-quickchart {\n",
              "      --bg-color: #3B4455;\n",
              "      --fill-color: #D2E3FC;\n",
              "      --hover-bg-color: #434B5C;\n",
              "      --hover-fill-color: #FFFFFF;\n",
              "      --disabled-bg-color: #3B4455;\n",
              "      --disabled-fill-color: #666;\n",
              "  }\n",
              "\n",
              "  .colab-df-quickchart {\n",
              "    background-color: var(--bg-color);\n",
              "    border: none;\n",
              "    border-radius: 50%;\n",
              "    cursor: pointer;\n",
              "    display: none;\n",
              "    fill: var(--fill-color);\n",
              "    height: 32px;\n",
              "    padding: 0;\n",
              "    width: 32px;\n",
              "  }\n",
              "\n",
              "  .colab-df-quickchart:hover {\n",
              "    background-color: var(--hover-bg-color);\n",
              "    box-shadow: 0 1px 2px rgba(60, 64, 67, 0.3), 0 1px 3px 1px rgba(60, 64, 67, 0.15);\n",
              "    fill: var(--button-hover-fill-color);\n",
              "  }\n",
              "\n",
              "  .colab-df-quickchart-complete:disabled,\n",
              "  .colab-df-quickchart-complete:disabled:hover {\n",
              "    background-color: var(--disabled-bg-color);\n",
              "    fill: var(--disabled-fill-color);\n",
              "    box-shadow: none;\n",
              "  }\n",
              "\n",
              "  .colab-df-spinner {\n",
              "    border: 2px solid var(--fill-color);\n",
              "    border-color: transparent;\n",
              "    border-bottom-color: var(--fill-color);\n",
              "    animation:\n",
              "      spin 1s steps(1) infinite;\n",
              "  }\n",
              "\n",
              "  @keyframes spin {\n",
              "    0% {\n",
              "      border-color: transparent;\n",
              "      border-bottom-color: var(--fill-color);\n",
              "      border-left-color: var(--fill-color);\n",
              "    }\n",
              "    20% {\n",
              "      border-color: transparent;\n",
              "      border-left-color: var(--fill-color);\n",
              "      border-top-color: var(--fill-color);\n",
              "    }\n",
              "    30% {\n",
              "      border-color: transparent;\n",
              "      border-left-color: var(--fill-color);\n",
              "      border-top-color: var(--fill-color);\n",
              "      border-right-color: var(--fill-color);\n",
              "    }\n",
              "    40% {\n",
              "      border-color: transparent;\n",
              "      border-right-color: var(--fill-color);\n",
              "      border-top-color: var(--fill-color);\n",
              "    }\n",
              "    60% {\n",
              "      border-color: transparent;\n",
              "      border-right-color: var(--fill-color);\n",
              "    }\n",
              "    80% {\n",
              "      border-color: transparent;\n",
              "      border-right-color: var(--fill-color);\n",
              "      border-bottom-color: var(--fill-color);\n",
              "    }\n",
              "    90% {\n",
              "      border-color: transparent;\n",
              "      border-bottom-color: var(--fill-color);\n",
              "    }\n",
              "  }\n",
              "</style>\n",
              "\n",
              "  <script>\n",
              "    async function quickchart(key) {\n",
              "      const quickchartButtonEl =\n",
              "        document.querySelector('#' + key + ' button');\n",
              "      quickchartButtonEl.disabled = true;  // To prevent multiple clicks.\n",
              "      quickchartButtonEl.classList.add('colab-df-spinner');\n",
              "      try {\n",
              "        const charts = await google.colab.kernel.invokeFunction(\n",
              "            'suggestCharts', [key], {});\n",
              "      } catch (error) {\n",
              "        console.error('Error during call to suggestCharts:', error);\n",
              "      }\n",
              "      quickchartButtonEl.classList.remove('colab-df-spinner');\n",
              "      quickchartButtonEl.classList.add('colab-df-quickchart-complete');\n",
              "    }\n",
              "    (() => {\n",
              "      let quickchartButtonEl =\n",
              "        document.querySelector('#df-ec4ddf82-0864-4e69-9f62-bd5d9d2bac7e button');\n",
              "      quickchartButtonEl.style.display =\n",
              "        google.colab.kernel.accessAllowed ? 'block' : 'none';\n",
              "    })();\n",
              "  </script>\n",
              "</div>\n",
              "\n",
              "    </div>\n",
              "  </div>\n"
            ]
          },
          "metadata": {},
          "execution_count": 40
        }
      ]
    },
    {
      "cell_type": "code",
      "source": [
        "print(new_df.to_string())"
      ],
      "metadata": {
        "colab": {
          "base_uri": "https://localhost:8080/"
        },
        "id": "NO3QDh5zSuW4",
        "outputId": "10b48359-b8f4-491c-a97a-9d35bcc834bf"
      },
      "execution_count": null,
      "outputs": [
        {
          "output_type": "stream",
          "name": "stderr",
          "text": [
            "IOPub data rate exceeded.\n",
            "The notebook server will temporarily stop sending output\n",
            "to the client in order to avoid crashing it.\n",
            "To change this limit, set the config variable\n",
            "`--NotebookApp.iopub_data_rate_limit`.\n",
            "\n",
            "Current values:\n",
            "NotebookApp.iopub_data_rate_limit=1000000.0 (bytes/sec)\n",
            "NotebookApp.rate_limit_window=3.0 (secs)\n",
            "\n"
          ]
        }
      ]
    },
    {
      "cell_type": "code",
      "source": [
        "df.dropna(inplace=True)"
      ],
      "metadata": {
        "id": "jlkk5nTgS6NC"
      },
      "execution_count": null,
      "outputs": []
    },
    {
      "cell_type": "code",
      "source": [
        "print(df.head())"
      ],
      "metadata": {
        "colab": {
          "base_uri": "https://localhost:8080/"
        },
        "id": "k-w62LlWTBYp",
        "outputId": "cefa1daf-fd38-4336-f6c4-ff6b0ff9c00a"
      },
      "execution_count": null,
      "outputs": [
        {
          "output_type": "stream",
          "name": "stdout",
          "text": [
            "                              App_Id                        App_Name  \\\n",
            "4   com.imonstersoft.azdictionaryios         A-Z Synonyms Dictionary   \n",
            "7   BestPracticeSystems.IOSAppUpload          A19BestPracticeSystems   \n",
            "9                    com.aaaakh.news                         A4 News   \n",
            "11        com.goodbarber.bigbookfree        AA Big Book (Unofficial)   \n",
            "13            com.aabigbook.appstore  AA Big Book App  -  Unofficial   \n",
            "\n",
            "                                         AppStore_Url Primary_Genre  \\\n",
            "4   https://apps.apple.com/us/app/a-z-synonyms-dic...     Reference   \n",
            "7   https://apps.apple.com/us/app/a19bestpractices...          Book   \n",
            "9   https://apps.apple.com/us/app/a4-news/id145538...          News   \n",
            "11  https://apps.apple.com/us/app/aa-big-book-unof...          Book   \n",
            "13  https://apps.apple.com/us/app/aa-big-book-app-...          Book   \n",
            "\n",
            "   Content_Rating  Size_Bytes Required_IOS_Version              Released  \\\n",
            "4              4+    64692224                  9.0  2020-12-16T08:00:00Z   \n",
            "7              4+    15737856                 12.0  2020-10-17T07:00:00Z   \n",
            "9              4+    13825024                 13.0  2019-05-24T14:20:55Z   \n",
            "11            17+    63112192                  9.0  2015-05-12T07:45:22Z   \n",
            "13            17+     2094080                  8.0  2015-12-19T00:41:11Z   \n",
            "\n",
            "                 Updated Version  ...  Currency   Free   DeveloperId  \\\n",
            "4   2020-12-18T21:36:11Z   1.0.1  ...       USD   True  6.567318e+08   \n",
            "7   2020-10-19T18:55:40Z     2.1  ...       USD   True  1.535421e+09   \n",
            "9   2020-09-29T15:28:14Z     2.0  ...       USD   True  5.868675e+08   \n",
            "11  2021-09-18T18:55:21Z  2.2.16  ...       USD   True  1.473748e+09   \n",
            "13  2018-10-17T20:01:47Z   1.4.2  ...       USD  False  2.957757e+08   \n",
            "\n",
            "            Developer                                      Developer_Url  \\\n",
            "4       Ngov chiheang  https://apps.apple.com/us/developer/ngov-chihe...   \n",
            "7        Gregor Anton  https://apps.apple.com/us/developer/gregor-ant...   \n",
            "9       Pich Prathana  https://apps.apple.com/us/developer/pich-prath...   \n",
            "11  Sobriety Soft LLC  https://apps.apple.com/us/developer/sobriety-s...   \n",
            "13          Dean Huff  https://apps.apple.com/us/developer/dean-huff/...   \n",
            "\n",
            "                                    Developer_Website Average_User_Rating  \\\n",
            "4                             http://imonstersoft.com             0.00000   \n",
            "7   https://bestpractice.systems/about-ios-mobile-...             0.00000   \n",
            "9                             https://www.softive.com             0.00000   \n",
            "11                            http://sobrietysoft.org             4.78902   \n",
            "13                            http://aabigbookapp.com             3.09524   \n",
            "\n",
            "    Reviews  Current_Version_Score  Current_Version_Reviews  \n",
            "4       0.0                0.00000                      0.0  \n",
            "7       0.0                0.00000                      0.0  \n",
            "9       0.0                0.00000                      0.0  \n",
            "11   1839.0                4.78902                   1839.0  \n",
            "13     21.0                3.09524                     21.0  \n",
            "\n",
            "[5 rows x 21 columns]\n"
          ]
        }
      ]
    },
    {
      "cell_type": "code",
      "source": [
        "df[\"Reviews\"].fillna(3,inplace=True)"
      ],
      "metadata": {
        "id": "ZoBtH5SZTCYH"
      },
      "execution_count": null,
      "outputs": []
    },
    {
      "cell_type": "code",
      "source": [
        "Data = [[2,3,4],\n",
        "        [5,6,7]]\n",
        "sdata = pd.Series(Data)\n",
        "print(sdata)"
      ],
      "metadata": {
        "colab": {
          "base_uri": "https://localhost:8080/"
        },
        "id": "CkxGFzXwTfFB",
        "outputId": "cdd2dc9d-1c9e-4f69-fc23-4bf926fe33ce"
      },
      "execution_count": null,
      "outputs": [
        {
          "output_type": "stream",
          "name": "stdout",
          "text": [
            "0    [2, 3, 4]\n",
            "1    [5, 6, 7]\n",
            "dtype: object\n"
          ]
        }
      ]
    },
    {
      "cell_type": "code",
      "source": [
        "lst = [['Data', 3], ['Analytics', 36],\n",
        "['Python', 6], ['R', 9]]\n",
        "df1 = pd.DataFrame(lst, columns =['Tag', 'number'])\n",
        "print(df1)"
      ],
      "metadata": {
        "colab": {
          "base_uri": "https://localhost:8080/"
        },
        "id": "CI32VPDoT39Z",
        "outputId": "fb7968b7-cd32-4d09-cc1e-c2365c2a448c"
      },
      "execution_count": null,
      "outputs": [
        {
          "output_type": "stream",
          "name": "stdout",
          "text": [
            "         Tag  number\n",
            "0       Data       3\n",
            "1  Analytics      36\n",
            "2     Python       6\n",
            "3          R       9\n"
          ]
        }
      ]
    },
    {
      "cell_type": "code",
      "source": [
        "lst1 = [['tom', 'reacher', 25], ['krish', 'pete', 30],\n",
        "['nick', 'wilson', 26], ['juli', 'williams', 22]]\n",
        "df2 = pd.DataFrame(lst1, columns =['FName', 'LName', 'Age'],\n",
        "dtype = float)\n",
        "print(df2)"
      ],
      "metadata": {
        "colab": {
          "base_uri": "https://localhost:8080/"
        },
        "id": "PxRZ5RXTT9aq",
        "outputId": "f5691bc0-9596-4d64-81f4-5299863c3ddc"
      },
      "execution_count": null,
      "outputs": [
        {
          "output_type": "stream",
          "name": "stdout",
          "text": [
            "   FName     LName   Age\n",
            "0    tom   reacher  25.0\n",
            "1  krish      pete  30.0\n",
            "2   nick    wilson  26.0\n",
            "3   juli  williams  22.0\n"
          ]
        },
        {
          "output_type": "stream",
          "name": "stderr",
          "text": [
            "<ipython-input-47-69744263768a>:3: FutureWarning: Could not cast to float64, falling back to object. This behavior is deprecated. In a future version, when a dtype is passed to 'DataFrame', either all columns will be cast to that dtype, or a TypeError will be raised.\n",
            "  df2 = pd.DataFrame(lst1, columns =['FName', 'LName', 'Age'],\n"
          ]
        }
      ]
    },
    {
      "cell_type": "code",
      "source": [
        "fruits = ['apples', 'oranges', 'cherries', 'pears']\n",
        "S = pd.Series([20, 33, 52, 10], index=fruits)\n",
        "S2 = pd.Series([17, 13, 31, 32], index=fruits)"
      ],
      "metadata": {
        "id": "StnlI6HhUFIk"
      },
      "execution_count": null,
      "outputs": []
    },
    {
      "cell_type": "code",
      "source": [
        "print(S+S2)\n",
        "print(\"Sum of S: \",sum(S))"
      ],
      "metadata": {
        "colab": {
          "base_uri": "https://localhost:8080/"
        },
        "id": "SXg5MbJ2URZh",
        "outputId": "24403b12-956b-4d83-8cac-ad9de932e606"
      },
      "execution_count": null,
      "outputs": [
        {
          "output_type": "stream",
          "name": "stdout",
          "text": [
            "apples      37\n",
            "oranges     46\n",
            "cherries    83\n",
            "pears       42\n",
            "dtype: int64\n",
            "Sum of S:  115\n"
          ]
        }
      ]
    },
    {
      "cell_type": "code",
      "source": [
        "fruits = ['apples', 'oranges', 'cherries', 'pears']\n",
        "fruits_tr = ['elma', 'portakal', 'kiraz', 'armut']\n",
        "S = pd.Series([20, 33, 52, 10], index=fruits)\n",
        "S2 = pd.Series([17, 13, 31, 32], index=fruits_tr)\n",
        "print(S + S2)"
      ],
      "metadata": {
        "colab": {
          "base_uri": "https://localhost:8080/"
        },
        "id": "h4KaRsbzaiMI",
        "outputId": "6d6c4811-c52b-44ee-8fdb-c7772f430d50"
      },
      "execution_count": null,
      "outputs": [
        {
          "output_type": "stream",
          "name": "stdout",
          "text": [
            "apples     NaN\n",
            "armut      NaN\n",
            "cherries   NaN\n",
            "elma       NaN\n",
            "kiraz      NaN\n",
            "oranges    NaN\n",
            "pears      NaN\n",
            "portakal   NaN\n",
            "dtype: float64\n"
          ]
        }
      ]
    },
    {
      "cell_type": "code",
      "source": [
        "fruits = ['peaches', 'oranges', 'cherries', 'pears']\n",
        "fruits2 = ['raspberries', 'oranges', 'cherries', 'pears']\n",
        "S = pd.Series([20, 33, 52, 10], index=fruits, dtype=int)\n",
        "S2 = pd.Series([17, 13, 31, 32], index=fruits2, dtype=int)"
      ],
      "metadata": {
        "id": "J0nV0vQiUWqi"
      },
      "execution_count": null,
      "outputs": []
    },
    {
      "cell_type": "code",
      "source": [
        "s = pd.Series([S,S2],dtype=\"int\").sum()"
      ],
      "metadata": {
        "id": "mPUVDcg2U6LW"
      },
      "execution_count": null,
      "outputs": []
    },
    {
      "cell_type": "code",
      "source": [
        "print(s)"
      ],
      "metadata": {
        "colab": {
          "base_uri": "https://localhost:8080/"
        },
        "id": "7Wrp4_YnU-mi",
        "outputId": "4069fd3d-dbe3-4266-bdf7-c287c64d3afc"
      },
      "execution_count": null,
      "outputs": [
        {
          "output_type": "stream",
          "name": "stdout",
          "text": [
            "(20, 33, 52, 10, 17, 13, 31, 32)\n"
          ]
        }
      ]
    },
    {
      "cell_type": "code",
      "source": [
        "print(S+S2)"
      ],
      "metadata": {
        "colab": {
          "base_uri": "https://localhost:8080/"
        },
        "id": "-Xg7vfduU_kn",
        "outputId": "a0df21eb-c02f-439a-bf84-7fc5f15f40e5"
      },
      "execution_count": null,
      "outputs": [
        {
          "output_type": "stream",
          "name": "stdout",
          "text": [
            "cherries       83.0\n",
            "oranges        46.0\n",
            "peaches         NaN\n",
            "pears          42.0\n",
            "raspberries     NaN\n",
            "dtype: float64\n"
          ]
        }
      ]
    },
    {
      "cell_type": "code",
      "source": [
        "fruits = ['apples', 'oranges', 'cherries', 'pears']\n",
        "fruits_tr = ['elma', 'portakal', 'kiraz', 'armut']\n",
        "S = pd.Series([20, 33, 52, 10], index=fruits)\n",
        "S2 = pd.Series([17, 13, 31, 32], index=fruits_tr)\n",
        "print(S + S2)"
      ],
      "metadata": {
        "colab": {
          "base_uri": "https://localhost:8080/"
        },
        "id": "AkgJ4BPpVCwj",
        "outputId": "b8552520-60fe-451e-8cc1-729c862c380d"
      },
      "execution_count": null,
      "outputs": [
        {
          "output_type": "stream",
          "name": "stdout",
          "text": [
            "apples     NaN\n",
            "armut      NaN\n",
            "cherries   NaN\n",
            "elma       NaN\n",
            "kiraz      NaN\n",
            "oranges    NaN\n",
            "pears      NaN\n",
            "portakal   NaN\n",
            "dtype: float64\n"
          ]
        }
      ]
    },
    {
      "cell_type": "code",
      "source": [
        "print(S['apples'])"
      ],
      "metadata": {
        "colab": {
          "base_uri": "https://localhost:8080/"
        },
        "id": "EAU9kXZCVepc",
        "outputId": "bcc4fd93-2711-4e09-b234-dff2f997e397"
      },
      "execution_count": null,
      "outputs": [
        {
          "output_type": "stream",
          "name": "stdout",
          "text": [
            "20\n"
          ]
        }
      ]
    },
    {
      "cell_type": "code",
      "source": [
        "S.apply(np.log)"
      ],
      "metadata": {
        "colab": {
          "base_uri": "https://localhost:8080/"
        },
        "id": "zaxO2V4rVgOz",
        "outputId": "82922380-3c06-4f3c-c2fb-968589a3d73b"
      },
      "execution_count": null,
      "outputs": [
        {
          "output_type": "execute_result",
          "data": {
            "text/plain": [
              "apples      2.995732\n",
              "oranges     3.496508\n",
              "cherries    3.951244\n",
              "pears       2.302585\n",
              "dtype: float64"
            ]
          },
          "metadata": {},
          "execution_count": 57
        }
      ]
    },
    {
      "cell_type": "code",
      "source": [
        "S.apply(lambda x: x if x>50 else x+10)"
      ],
      "metadata": {
        "colab": {
          "base_uri": "https://localhost:8080/"
        },
        "id": "hjJ90JHEV1-y",
        "outputId": "fbcf4e0d-e3bf-4e27-c646-5697737e33a0"
      },
      "execution_count": null,
      "outputs": [
        {
          "output_type": "execute_result",
          "data": {
            "text/plain": [
              "apples      30\n",
              "oranges     43\n",
              "cherries    52\n",
              "pears       20\n",
              "dtype: int64"
            ]
          },
          "metadata": {},
          "execution_count": 58
        }
      ]
    },
    {
      "cell_type": "code",
      "source": [
        "S[S>30]"
      ],
      "metadata": {
        "colab": {
          "base_uri": "https://localhost:8080/"
        },
        "id": "2AvRvBvaV-qz",
        "outputId": "7bc4ab44-ec94-4187-d0e7-622dd7231ee9"
      },
      "execution_count": null,
      "outputs": [
        {
          "output_type": "execute_result",
          "data": {
            "text/plain": [
              "oranges     33\n",
              "cherries    52\n",
              "dtype: int64"
            ]
          },
          "metadata": {},
          "execution_count": 59
        }
      ]
    },
    {
      "cell_type": "code",
      "source": [
        "\"cherries\" in S"
      ],
      "metadata": {
        "colab": {
          "base_uri": "https://localhost:8080/"
        },
        "id": "ZgGJFzVQWDcU",
        "outputId": "1c2d359e-1ffe-4aca-bf49-513c032c636f"
      },
      "execution_count": null,
      "outputs": [
        {
          "output_type": "execute_result",
          "data": {
            "text/plain": [
              "True"
            ]
          },
          "metadata": {},
          "execution_count": 60
        }
      ]
    },
    {
      "cell_type": "code",
      "source": [
        "cities = {\"London\": 8615246,\n",
        "          \"Berlin\": 3562166,\n",
        "          \"Madrid\": 3165235,\n",
        "          \"Rome\": 2874038,\n",
        "          \"Paris\": 2273305,\n",
        "          \"Vienna\": 1805681,\n",
        "          \"Bucharest\": 1803425,\n",
        "          \"Hamburg\": 1760433,\n",
        "          \"Budapest\": 1754000,\n",
        "          \"Warsaw\": 1740119,\n",
        "          \"Barcelona\": 1602386,\n",
        "          \"Munich\": 1493900,\n",
        "          \"Milan\": 1350680\n",
        "          }\n",
        "city_series = pd.Series(cities)\n",
        "print(city_series)"
      ],
      "metadata": {
        "colab": {
          "base_uri": "https://localhost:8080/"
        },
        "id": "b-xWVsNaWGrr",
        "outputId": "63d5f763-a257-46b7-9c6c-f1e56fc53b53"
      },
      "execution_count": null,
      "outputs": [
        {
          "output_type": "stream",
          "name": "stdout",
          "text": [
            "London       8615246\n",
            "Berlin       3562166\n",
            "Madrid       3165235\n",
            "Rome         2874038\n",
            "Paris        2273305\n",
            "Vienna       1805681\n",
            "Bucharest    1803425\n",
            "Hamburg      1760433\n",
            "Budapest     1754000\n",
            "Warsaw       1740119\n",
            "Barcelona    1602386\n",
            "Munich       1493900\n",
            "Milan        1350680\n",
            "dtype: int64\n"
          ]
        }
      ]
    },
    {
      "cell_type": "code",
      "source": [
        "my_cities = [\"London\", \"Paris\", \"Zurich\", \"Berlin\",\n",
        "\"Stuttgart\", \"Hamburg\"]\n",
        "my_city_series = pd.Series(cities, index=my_cities, dtype=int)"
      ],
      "metadata": {
        "id": "9eNJa9ATWLqN"
      },
      "execution_count": null,
      "outputs": []
    },
    {
      "cell_type": "code",
      "source": [
        "print(my_city_series)\n",
        "new_city_series = my_city_series.fillna(300)"
      ],
      "metadata": {
        "colab": {
          "base_uri": "https://localhost:8080/"
        },
        "id": "_jv8HFF0WXFx",
        "outputId": "aeda27bc-a310-4779-ca72-5f4bfc1039fe"
      },
      "execution_count": null,
      "outputs": [
        {
          "output_type": "stream",
          "name": "stdout",
          "text": [
            "London       8615246.0\n",
            "Paris        2273305.0\n",
            "Zurich           300.0\n",
            "Berlin       3562166.0\n",
            "Stuttgart        300.0\n",
            "Hamburg      1760433.0\n",
            "dtype: float64\n"
          ]
        }
      ]
    },
    {
      "cell_type": "code",
      "source": [
        "my_cities = [\"London\", \"Paris\", \"Berlin\", \"Hamburg\"]\n",
        "my_city_series = pd.Series(cities,\n",
        "index=my_cities)\n",
        "print(my_city_series)"
      ],
      "metadata": {
        "colab": {
          "base_uri": "https://localhost:8080/"
        },
        "id": "zCglniVeWcMe",
        "outputId": "e4b52918-3ecd-4ef8-c7cf-9116587b5252"
      },
      "execution_count": null,
      "outputs": [
        {
          "output_type": "stream",
          "name": "stdout",
          "text": [
            "London     8615246\n",
            "Paris      2273305\n",
            "Berlin     3562166\n",
            "Hamburg    1760433\n",
            "dtype: int64\n"
          ]
        }
      ]
    },
    {
      "cell_type": "code",
      "source": [
        "print(my_city_series.isnull())"
      ],
      "metadata": {
        "colab": {
          "base_uri": "https://localhost:8080/"
        },
        "id": "x2_0n93uXG6T",
        "outputId": "4d2eb581-5fa7-4414-8532-f82cc4611434"
      },
      "execution_count": null,
      "outputs": [
        {
          "output_type": "stream",
          "name": "stdout",
          "text": [
            "London     False\n",
            "Paris      False\n",
            "Berlin     False\n",
            "Hamburg    False\n",
            "dtype: bool\n"
          ]
        }
      ]
    },
    {
      "cell_type": "code",
      "source": [
        "print(my_city_series.notnull())"
      ],
      "metadata": {
        "colab": {
          "base_uri": "https://localhost:8080/"
        },
        "id": "Z8g1H9ZwXL0b",
        "outputId": "1ef7fc41-7a38-4780-f2ea-0c0eb59aac09"
      },
      "execution_count": null,
      "outputs": [
        {
          "output_type": "stream",
          "name": "stdout",
          "text": [
            "London     True\n",
            "Paris      True\n",
            "Berlin     True\n",
            "Hamburg    True\n",
            "dtype: bool\n"
          ]
        }
      ]
    },
    {
      "cell_type": "code",
      "source": [
        "lst = [['Data',25],['Analysis',30],['Python',26]]\n",
        "df3 = pd.DataFrame(lst, columns=['Tag','Number'],index=['1','2','3'])"
      ],
      "metadata": {
        "id": "OF4YISLzXN8X"
      },
      "execution_count": null,
      "outputs": []
    },
    {
      "cell_type": "code",
      "source": [
        "print(df3)"
      ],
      "metadata": {
        "colab": {
          "base_uri": "https://localhost:8080/"
        },
        "id": "qrP8hdHnXixT",
        "outputId": "c632fe5a-4444-47c3-d941-5df1a4cf9f46"
      },
      "execution_count": null,
      "outputs": [
        {
          "output_type": "stream",
          "name": "stdout",
          "text": [
            "        Tag  Number\n",
            "1      Data      25\n",
            "2  Analysis      30\n",
            "3    Python      26\n"
          ]
        }
      ]
    },
    {
      "cell_type": "code",
      "source": [
        "data1 = {'Category':['Array','Stack','Queue'],\n",
        "         'Marks':[20,21,19]}\n",
        "df4 = pd.DataFrame(data1)"
      ],
      "metadata": {
        "id": "wRN00jJaXp_8"
      },
      "execution_count": null,
      "outputs": []
    },
    {
      "cell_type": "code",
      "source": [
        "print(df4)"
      ],
      "metadata": {
        "colab": {
          "base_uri": "https://localhost:8080/"
        },
        "id": "geCAKki5Yjvu",
        "outputId": "81443c64-59e5-4823-f74c-8080aa47fcd2"
      },
      "execution_count": null,
      "outputs": [
        {
          "output_type": "stream",
          "name": "stdout",
          "text": [
            "  Category  Marks\n",
            "0    Array     20\n",
            "1    Stack     21\n",
            "2    Queue     19\n"
          ]
        }
      ]
    },
    {
      "cell_type": "code",
      "source": [
        "dict1 = {'name':[\"reyansh\", \"hitz\", \"khushi\", \"Sisa\"],\n",
        "'degree': [\"MBA\", \"BCA\", \"M.Tech\", \"MBA\"],\n",
        "'score':[90, 40, 80, 98]}\n",
        "df = pd.DataFrame(dict1)\n",
        "print(df)"
      ],
      "metadata": {
        "colab": {
          "base_uri": "https://localhost:8080/"
        },
        "id": "mQY8IPNPYnGa",
        "outputId": "173f8a66-9582-4770-ccb7-c90f5680d199"
      },
      "execution_count": null,
      "outputs": [
        {
          "output_type": "stream",
          "name": "stdout",
          "text": [
            "      name  degree  score\n",
            "0  reyansh     MBA     90\n",
            "1     hitz     BCA     40\n",
            "2   khushi  M.Tech     80\n",
            "3     Sisa     MBA     98\n"
          ]
        }
      ]
    },
    {
      "cell_type": "code",
      "source": [
        "for i,j in df.iterrows():\n",
        "  print(i,j)"
      ],
      "metadata": {
        "colab": {
          "base_uri": "https://localhost:8080/"
        },
        "id": "4QaZflLhYtOT",
        "outputId": "13cedc76-1487-4764-af36-f9b14c8a613d"
      },
      "execution_count": null,
      "outputs": [
        {
          "output_type": "stream",
          "name": "stdout",
          "text": [
            "0 name      reyansh\n",
            "degree        MBA\n",
            "score          90\n",
            "Name: 0, dtype: object\n",
            "1 name      hitz\n",
            "degree     BCA\n",
            "score       40\n",
            "Name: 1, dtype: object\n",
            "2 name      khushi\n",
            "degree    M.Tech\n",
            "score         80\n",
            "Name: 2, dtype: object\n",
            "3 name      Sisa\n",
            "degree     MBA\n",
            "score       98\n",
            "Name: 3, dtype: object\n"
          ]
        }
      ]
    },
    {
      "cell_type": "code",
      "source": [
        "columns = list(df)\n",
        "for i in columns:\n",
        "  print(df[i][2])"
      ],
      "metadata": {
        "colab": {
          "base_uri": "https://localhost:8080/"
        },
        "id": "Cj0JVRWNZJtF",
        "outputId": "66d341f3-57f5-4858-d298-590cdc040f15"
      },
      "execution_count": null,
      "outputs": [
        {
          "output_type": "stream",
          "name": "stdout",
          "text": [
            "khushi\n",
            "M.Tech\n",
            "80\n"
          ]
        }
      ]
    },
    {
      "cell_type": "code",
      "source": [
        "data = {'Name':['Jai', 'Princi', 'Gaurav', 'Anuj'],\n",
        "        'Age':[27, 24, 22, 32],\n",
        "        'Address':['Delhi', 'Kanpur', 'Allahabad', 'Kannauj'],\n",
        "        'Qualification':['Msc', 'MA', 'MCA', 'Phd']}\n",
        "\n",
        "df1 = pd.DataFrame(data)"
      ],
      "metadata": {
        "id": "2SXAAjKsZO1h"
      },
      "execution_count": null,
      "outputs": []
    },
    {
      "cell_type": "code",
      "source": [
        "df1[\"Name\"] = df1[\"Name\"].str.lower()"
      ],
      "metadata": {
        "id": "IILqLAm2ZhEV"
      },
      "execution_count": null,
      "outputs": []
    },
    {
      "cell_type": "code",
      "source": [
        "print(df1)"
      ],
      "metadata": {
        "colab": {
          "base_uri": "https://localhost:8080/"
        },
        "id": "16JkCeKaZn-q",
        "outputId": "9825a44b-6751-446b-c812-648d7db82cff"
      },
      "execution_count": null,
      "outputs": [
        {
          "output_type": "stream",
          "name": "stdout",
          "text": [
            "     Name  Age    Address Qualification\n",
            "0     jai   27      Delhi           Msc\n",
            "1  princi   24     Kanpur            MA\n",
            "2  gaurav   22  Allahabad           MCA\n",
            "3    anuj   32    Kannauj           Phd\n"
          ]
        }
      ]
    },
    {
      "cell_type": "code",
      "source": [
        "print(df1.to_numpy())"
      ],
      "metadata": {
        "colab": {
          "base_uri": "https://localhost:8080/"
        },
        "id": "3ZkDy7j7ZslC",
        "outputId": "ae93953e-3e5c-4ec9-fb60-cb96ff52f0c6"
      },
      "execution_count": null,
      "outputs": [
        {
          "output_type": "stream",
          "name": "stdout",
          "text": [
            "[['jai' 27 'Delhi' 'Msc']\n",
            " ['princi' 24 'Kanpur' 'MA']\n",
            " ['gaurav' 22 'Allahabad' 'MCA']\n",
            " ['anuj' 32 'Kannauj' 'Phd']]\n"
          ]
        }
      ]
    },
    {
      "cell_type": "code",
      "source": [
        "data = {\"Product_Name\":[\"Keyboard\",\"Mouse\", \"Monitor\", \"CPU\",\"CPU\", \"Speakers\",\"Headset\"],\n",
        "        \"Unit_Price\":[500,200, 5000.235, 10000.550, 10000.550, 250.50,None],\n",
        "        \"No_Of_Units\":[5,5, 10, 20, 20, 8,pd.NaT],\n",
        "        \"Available_Quantity\":[5,6,10,\"Not Available\",\"Not Available\", pd.NaT,pd.NaT],\n",
        "        \"Available_Since_Date\":['11/5/2021', '4/23/2021', '08/21/2021','09/18/2021','09/18/2021','01/05/2021',pd.NaT],\n",
        "        \"Remarks\":[pd.NaT,pd.NaT,pd.NaT,pd.NaT,pd.NaT,pd.NaT,pd.NaT]\n",
        "        }\n",
        "df = pd.DataFrame(data)\n",
        "df = df.astype({\"Unit_Price\": float})\n",
        "print(df)"
      ],
      "metadata": {
        "colab": {
          "base_uri": "https://localhost:8080/"
        },
        "id": "clsC4A12Z2Zr",
        "outputId": "93455064-aca4-4436-d1e1-7edfe0405c6c"
      },
      "execution_count": null,
      "outputs": [
        {
          "output_type": "stream",
          "name": "stdout",
          "text": [
            "  Product_Name  Unit_Price No_Of_Units Available_Quantity  \\\n",
            "0     Keyboard     500.000           5                  5   \n",
            "1        Mouse     200.000           5                  6   \n",
            "2      Monitor    5000.235          10                 10   \n",
            "3          CPU   10000.550          20      Not Available   \n",
            "4          CPU   10000.550          20      Not Available   \n",
            "5     Speakers     250.500           8                NaT   \n",
            "6      Headset         NaN         NaT                NaT   \n",
            "\n",
            "  Available_Since_Date Remarks  \n",
            "0            11/5/2021     NaT  \n",
            "1            4/23/2021     NaT  \n",
            "2           08/21/2021     NaT  \n",
            "3           09/18/2021     NaT  \n",
            "4           09/18/2021     NaT  \n",
            "5           01/05/2021     NaT  \n",
            "6                  NaT     NaT  \n"
          ]
        }
      ]
    },
    {
      "cell_type": "code",
      "source": [
        "df"
      ],
      "metadata": {
        "colab": {
          "base_uri": "https://localhost:8080/",
          "height": 288
        },
        "id": "4MFOdm8uauQA",
        "outputId": "a56f7859-6207-4b9b-9a42-9c3baa2a9133"
      },
      "execution_count": null,
      "outputs": [
        {
          "output_type": "execute_result",
          "data": {
            "text/plain": [
              "  Product_Name  Unit_Price No_Of_Units Available_Quantity  \\\n",
              "0     Keyboard     500.000           5                  5   \n",
              "1        Mouse     200.000           5                  6   \n",
              "2      Monitor    5000.235          10                 10   \n",
              "3          CPU   10000.550          20      Not Available   \n",
              "4          CPU   10000.550          20      Not Available   \n",
              "5     Speakers     250.500           8                NaT   \n",
              "6      Headset         NaN         NaT                NaT   \n",
              "\n",
              "  Available_Since_Date Remarks  \n",
              "0            11/5/2021     NaT  \n",
              "1            4/23/2021     NaT  \n",
              "2           08/21/2021     NaT  \n",
              "3           09/18/2021     NaT  \n",
              "4           09/18/2021     NaT  \n",
              "5           01/05/2021     NaT  \n",
              "6                  NaT     NaT  "
            ],
            "text/html": [
              "\n",
              "  <div id=\"df-a8e94e8c-c4b0-4be9-96fe-592733290f97\" class=\"colab-df-container\">\n",
              "    <div>\n",
              "<style scoped>\n",
              "    .dataframe tbody tr th:only-of-type {\n",
              "        vertical-align: middle;\n",
              "    }\n",
              "\n",
              "    .dataframe tbody tr th {\n",
              "        vertical-align: top;\n",
              "    }\n",
              "\n",
              "    .dataframe thead th {\n",
              "        text-align: right;\n",
              "    }\n",
              "</style>\n",
              "<table border=\"1\" class=\"dataframe\">\n",
              "  <thead>\n",
              "    <tr style=\"text-align: right;\">\n",
              "      <th></th>\n",
              "      <th>Product_Name</th>\n",
              "      <th>Unit_Price</th>\n",
              "      <th>No_Of_Units</th>\n",
              "      <th>Available_Quantity</th>\n",
              "      <th>Available_Since_Date</th>\n",
              "      <th>Remarks</th>\n",
              "    </tr>\n",
              "  </thead>\n",
              "  <tbody>\n",
              "    <tr>\n",
              "      <th>0</th>\n",
              "      <td>Keyboard</td>\n",
              "      <td>500.000</td>\n",
              "      <td>5</td>\n",
              "      <td>5</td>\n",
              "      <td>11/5/2021</td>\n",
              "      <td>NaT</td>\n",
              "    </tr>\n",
              "    <tr>\n",
              "      <th>1</th>\n",
              "      <td>Mouse</td>\n",
              "      <td>200.000</td>\n",
              "      <td>5</td>\n",
              "      <td>6</td>\n",
              "      <td>4/23/2021</td>\n",
              "      <td>NaT</td>\n",
              "    </tr>\n",
              "    <tr>\n",
              "      <th>2</th>\n",
              "      <td>Monitor</td>\n",
              "      <td>5000.235</td>\n",
              "      <td>10</td>\n",
              "      <td>10</td>\n",
              "      <td>08/21/2021</td>\n",
              "      <td>NaT</td>\n",
              "    </tr>\n",
              "    <tr>\n",
              "      <th>3</th>\n",
              "      <td>CPU</td>\n",
              "      <td>10000.550</td>\n",
              "      <td>20</td>\n",
              "      <td>Not Available</td>\n",
              "      <td>09/18/2021</td>\n",
              "      <td>NaT</td>\n",
              "    </tr>\n",
              "    <tr>\n",
              "      <th>4</th>\n",
              "      <td>CPU</td>\n",
              "      <td>10000.550</td>\n",
              "      <td>20</td>\n",
              "      <td>Not Available</td>\n",
              "      <td>09/18/2021</td>\n",
              "      <td>NaT</td>\n",
              "    </tr>\n",
              "    <tr>\n",
              "      <th>5</th>\n",
              "      <td>Speakers</td>\n",
              "      <td>250.500</td>\n",
              "      <td>8</td>\n",
              "      <td>NaT</td>\n",
              "      <td>01/05/2021</td>\n",
              "      <td>NaT</td>\n",
              "    </tr>\n",
              "    <tr>\n",
              "      <th>6</th>\n",
              "      <td>Headset</td>\n",
              "      <td>NaN</td>\n",
              "      <td>NaT</td>\n",
              "      <td>NaT</td>\n",
              "      <td>NaT</td>\n",
              "      <td>NaT</td>\n",
              "    </tr>\n",
              "  </tbody>\n",
              "</table>\n",
              "</div>\n",
              "    <div class=\"colab-df-buttons\">\n",
              "\n",
              "  <div class=\"colab-df-container\">\n",
              "    <button class=\"colab-df-convert\" onclick=\"convertToInteractive('df-a8e94e8c-c4b0-4be9-96fe-592733290f97')\"\n",
              "            title=\"Convert this dataframe to an interactive table.\"\n",
              "            style=\"display:none;\">\n",
              "\n",
              "  <svg xmlns=\"http://www.w3.org/2000/svg\" height=\"24px\" viewBox=\"0 -960 960 960\">\n",
              "    <path d=\"M120-120v-720h720v720H120Zm60-500h600v-160H180v160Zm220 220h160v-160H400v160Zm0 220h160v-160H400v160ZM180-400h160v-160H180v160Zm440 0h160v-160H620v160ZM180-180h160v-160H180v160Zm440 0h160v-160H620v160Z\"/>\n",
              "  </svg>\n",
              "    </button>\n",
              "\n",
              "  <style>\n",
              "    .colab-df-container {\n",
              "      display:flex;\n",
              "      gap: 12px;\n",
              "    }\n",
              "\n",
              "    .colab-df-convert {\n",
              "      background-color: #E8F0FE;\n",
              "      border: none;\n",
              "      border-radius: 50%;\n",
              "      cursor: pointer;\n",
              "      display: none;\n",
              "      fill: #1967D2;\n",
              "      height: 32px;\n",
              "      padding: 0 0 0 0;\n",
              "      width: 32px;\n",
              "    }\n",
              "\n",
              "    .colab-df-convert:hover {\n",
              "      background-color: #E2EBFA;\n",
              "      box-shadow: 0px 1px 2px rgba(60, 64, 67, 0.3), 0px 1px 3px 1px rgba(60, 64, 67, 0.15);\n",
              "      fill: #174EA6;\n",
              "    }\n",
              "\n",
              "    .colab-df-buttons div {\n",
              "      margin-bottom: 4px;\n",
              "    }\n",
              "\n",
              "    [theme=dark] .colab-df-convert {\n",
              "      background-color: #3B4455;\n",
              "      fill: #D2E3FC;\n",
              "    }\n",
              "\n",
              "    [theme=dark] .colab-df-convert:hover {\n",
              "      background-color: #434B5C;\n",
              "      box-shadow: 0px 1px 3px 1px rgba(0, 0, 0, 0.15);\n",
              "      filter: drop-shadow(0px 1px 2px rgba(0, 0, 0, 0.3));\n",
              "      fill: #FFFFFF;\n",
              "    }\n",
              "  </style>\n",
              "\n",
              "    <script>\n",
              "      const buttonEl =\n",
              "        document.querySelector('#df-a8e94e8c-c4b0-4be9-96fe-592733290f97 button.colab-df-convert');\n",
              "      buttonEl.style.display =\n",
              "        google.colab.kernel.accessAllowed ? 'block' : 'none';\n",
              "\n",
              "      async function convertToInteractive(key) {\n",
              "        const element = document.querySelector('#df-a8e94e8c-c4b0-4be9-96fe-592733290f97');\n",
              "        const dataTable =\n",
              "          await google.colab.kernel.invokeFunction('convertToInteractive',\n",
              "                                                    [key], {});\n",
              "        if (!dataTable) return;\n",
              "\n",
              "        const docLinkHtml = 'Like what you see? Visit the ' +\n",
              "          '<a target=\"_blank\" href=https://colab.research.google.com/notebooks/data_table.ipynb>data table notebook</a>'\n",
              "          + ' to learn more about interactive tables.';\n",
              "        element.innerHTML = '';\n",
              "        dataTable['output_type'] = 'display_data';\n",
              "        await google.colab.output.renderOutput(dataTable, element);\n",
              "        const docLink = document.createElement('div');\n",
              "        docLink.innerHTML = docLinkHtml;\n",
              "        element.appendChild(docLink);\n",
              "      }\n",
              "    </script>\n",
              "  </div>\n",
              "\n",
              "\n",
              "<div id=\"df-dc911e19-7068-4f8f-b5a4-5922e7ec481c\">\n",
              "  <button class=\"colab-df-quickchart\" onclick=\"quickchart('df-dc911e19-7068-4f8f-b5a4-5922e7ec481c')\"\n",
              "            title=\"Suggest charts\"\n",
              "            style=\"display:none;\">\n",
              "\n",
              "<svg xmlns=\"http://www.w3.org/2000/svg\" height=\"24px\"viewBox=\"0 0 24 24\"\n",
              "     width=\"24px\">\n",
              "    <g>\n",
              "        <path d=\"M19 3H5c-1.1 0-2 .9-2 2v14c0 1.1.9 2 2 2h14c1.1 0 2-.9 2-2V5c0-1.1-.9-2-2-2zM9 17H7v-7h2v7zm4 0h-2V7h2v10zm4 0h-2v-4h2v4z\"/>\n",
              "    </g>\n",
              "</svg>\n",
              "  </button>\n",
              "\n",
              "<style>\n",
              "  .colab-df-quickchart {\n",
              "      --bg-color: #E8F0FE;\n",
              "      --fill-color: #1967D2;\n",
              "      --hover-bg-color: #E2EBFA;\n",
              "      --hover-fill-color: #174EA6;\n",
              "      --disabled-fill-color: #AAA;\n",
              "      --disabled-bg-color: #DDD;\n",
              "  }\n",
              "\n",
              "  [theme=dark] .colab-df-quickchart {\n",
              "      --bg-color: #3B4455;\n",
              "      --fill-color: #D2E3FC;\n",
              "      --hover-bg-color: #434B5C;\n",
              "      --hover-fill-color: #FFFFFF;\n",
              "      --disabled-bg-color: #3B4455;\n",
              "      --disabled-fill-color: #666;\n",
              "  }\n",
              "\n",
              "  .colab-df-quickchart {\n",
              "    background-color: var(--bg-color);\n",
              "    border: none;\n",
              "    border-radius: 50%;\n",
              "    cursor: pointer;\n",
              "    display: none;\n",
              "    fill: var(--fill-color);\n",
              "    height: 32px;\n",
              "    padding: 0;\n",
              "    width: 32px;\n",
              "  }\n",
              "\n",
              "  .colab-df-quickchart:hover {\n",
              "    background-color: var(--hover-bg-color);\n",
              "    box-shadow: 0 1px 2px rgba(60, 64, 67, 0.3), 0 1px 3px 1px rgba(60, 64, 67, 0.15);\n",
              "    fill: var(--button-hover-fill-color);\n",
              "  }\n",
              "\n",
              "  .colab-df-quickchart-complete:disabled,\n",
              "  .colab-df-quickchart-complete:disabled:hover {\n",
              "    background-color: var(--disabled-bg-color);\n",
              "    fill: var(--disabled-fill-color);\n",
              "    box-shadow: none;\n",
              "  }\n",
              "\n",
              "  .colab-df-spinner {\n",
              "    border: 2px solid var(--fill-color);\n",
              "    border-color: transparent;\n",
              "    border-bottom-color: var(--fill-color);\n",
              "    animation:\n",
              "      spin 1s steps(1) infinite;\n",
              "  }\n",
              "\n",
              "  @keyframes spin {\n",
              "    0% {\n",
              "      border-color: transparent;\n",
              "      border-bottom-color: var(--fill-color);\n",
              "      border-left-color: var(--fill-color);\n",
              "    }\n",
              "    20% {\n",
              "      border-color: transparent;\n",
              "      border-left-color: var(--fill-color);\n",
              "      border-top-color: var(--fill-color);\n",
              "    }\n",
              "    30% {\n",
              "      border-color: transparent;\n",
              "      border-left-color: var(--fill-color);\n",
              "      border-top-color: var(--fill-color);\n",
              "      border-right-color: var(--fill-color);\n",
              "    }\n",
              "    40% {\n",
              "      border-color: transparent;\n",
              "      border-right-color: var(--fill-color);\n",
              "      border-top-color: var(--fill-color);\n",
              "    }\n",
              "    60% {\n",
              "      border-color: transparent;\n",
              "      border-right-color: var(--fill-color);\n",
              "    }\n",
              "    80% {\n",
              "      border-color: transparent;\n",
              "      border-right-color: var(--fill-color);\n",
              "      border-bottom-color: var(--fill-color);\n",
              "    }\n",
              "    90% {\n",
              "      border-color: transparent;\n",
              "      border-bottom-color: var(--fill-color);\n",
              "    }\n",
              "  }\n",
              "</style>\n",
              "\n",
              "  <script>\n",
              "    async function quickchart(key) {\n",
              "      const quickchartButtonEl =\n",
              "        document.querySelector('#' + key + ' button');\n",
              "      quickchartButtonEl.disabled = true;  // To prevent multiple clicks.\n",
              "      quickchartButtonEl.classList.add('colab-df-spinner');\n",
              "      try {\n",
              "        const charts = await google.colab.kernel.invokeFunction(\n",
              "            'suggestCharts', [key], {});\n",
              "      } catch (error) {\n",
              "        console.error('Error during call to suggestCharts:', error);\n",
              "      }\n",
              "      quickchartButtonEl.classList.remove('colab-df-spinner');\n",
              "      quickchartButtonEl.classList.add('colab-df-quickchart-complete');\n",
              "    }\n",
              "    (() => {\n",
              "      let quickchartButtonEl =\n",
              "        document.querySelector('#df-dc911e19-7068-4f8f-b5a4-5922e7ec481c button');\n",
              "      quickchartButtonEl.style.display =\n",
              "        google.colab.kernel.accessAllowed ? 'block' : 'none';\n",
              "    })();\n",
              "  </script>\n",
              "</div>\n",
              "\n",
              "  <div id=\"id_3fd0c821-06eb-4a1b-a97d-beaa01a007a7\">\n",
              "    <style>\n",
              "      .colab-df-generate {\n",
              "        background-color: #E8F0FE;\n",
              "        border: none;\n",
              "        border-radius: 50%;\n",
              "        cursor: pointer;\n",
              "        display: none;\n",
              "        fill: #1967D2;\n",
              "        height: 32px;\n",
              "        padding: 0 0 0 0;\n",
              "        width: 32px;\n",
              "      }\n",
              "\n",
              "      .colab-df-generate:hover {\n",
              "        background-color: #E2EBFA;\n",
              "        box-shadow: 0px 1px 2px rgba(60, 64, 67, 0.3), 0px 1px 3px 1px rgba(60, 64, 67, 0.15);\n",
              "        fill: #174EA6;\n",
              "      }\n",
              "\n",
              "      [theme=dark] .colab-df-generate {\n",
              "        background-color: #3B4455;\n",
              "        fill: #D2E3FC;\n",
              "      }\n",
              "\n",
              "      [theme=dark] .colab-df-generate:hover {\n",
              "        background-color: #434B5C;\n",
              "        box-shadow: 0px 1px 3px 1px rgba(0, 0, 0, 0.15);\n",
              "        filter: drop-shadow(0px 1px 2px rgba(0, 0, 0, 0.3));\n",
              "        fill: #FFFFFF;\n",
              "      }\n",
              "    </style>\n",
              "    <button class=\"colab-df-generate\" onclick=\"generateWithVariable('df')\"\n",
              "            title=\"Generate code using this dataframe.\"\n",
              "            style=\"display:none;\">\n",
              "\n",
              "  <svg xmlns=\"http://www.w3.org/2000/svg\" height=\"24px\"viewBox=\"0 0 24 24\"\n",
              "       width=\"24px\">\n",
              "    <path d=\"M7,19H8.4L18.45,9,17,7.55,7,17.6ZM5,21V16.75L18.45,3.32a2,2,0,0,1,2.83,0l1.4,1.43a1.91,1.91,0,0,1,.58,1.4,1.91,1.91,0,0,1-.58,1.4L9.25,21ZM18.45,9,17,7.55Zm-12,3A5.31,5.31,0,0,0,4.9,8.1,5.31,5.31,0,0,0,1,6.5,5.31,5.31,0,0,0,4.9,4.9,5.31,5.31,0,0,0,6.5,1,5.31,5.31,0,0,0,8.1,4.9,5.31,5.31,0,0,0,12,6.5,5.46,5.46,0,0,0,6.5,12Z\"/>\n",
              "  </svg>\n",
              "    </button>\n",
              "    <script>\n",
              "      (() => {\n",
              "      const buttonEl =\n",
              "        document.querySelector('#id_3fd0c821-06eb-4a1b-a97d-beaa01a007a7 button.colab-df-generate');\n",
              "      buttonEl.style.display =\n",
              "        google.colab.kernel.accessAllowed ? 'block' : 'none';\n",
              "\n",
              "      buttonEl.onclick = () => {\n",
              "        google.colab.notebook.generateWithVariable('df');\n",
              "      }\n",
              "      })();\n",
              "    </script>\n",
              "  </div>\n",
              "\n",
              "    </div>\n",
              "  </div>\n"
            ]
          },
          "metadata": {},
          "execution_count": 100
        }
      ]
    },
    {
      "cell_type": "code",
      "source": [
        "df.iat[1,3]"
      ],
      "metadata": {
        "colab": {
          "base_uri": "https://localhost:8080/"
        },
        "id": "yMV90zVHaGId",
        "outputId": "f5f1667f-c379-4996-a686-5380af9a0bf9"
      },
      "execution_count": null,
      "outputs": [
        {
          "output_type": "execute_result",
          "data": {
            "text/plain": [
              "6"
            ]
          },
          "metadata": {},
          "execution_count": 99
        }
      ]
    },
    {
      "cell_type": "markdown",
      "source": [
        "# Numpy"
      ],
      "metadata": {
        "id": "SuzJVz7bbB7H"
      }
    },
    {
      "cell_type": "code",
      "source": [
        "import numpy as np\n",
        "print(np.__version__)"
      ],
      "metadata": {
        "colab": {
          "base_uri": "https://localhost:8080/"
        },
        "id": "d_09onOkbFgx",
        "outputId": "81ab4a99-33f8-424c-d353-fb1dc43934e4"
      },
      "execution_count": null,
      "outputs": [
        {
          "output_type": "stream",
          "name": "stdout",
          "text": [
            "1.23.5\n"
          ]
        }
      ]
    },
    {
      "cell_type": "code",
      "source": [
        "arr = np.array([1,2,3])"
      ],
      "metadata": {
        "id": "9X3sBm1tbIKU"
      },
      "execution_count": null,
      "outputs": []
    },
    {
      "cell_type": "code",
      "source": [
        "print(arr)"
      ],
      "metadata": {
        "colab": {
          "base_uri": "https://localhost:8080/"
        },
        "id": "t4ldS3FBbh7T",
        "outputId": "717a5cf5-d856-4d7b-dda3-450e442c1a2a"
      },
      "execution_count": null,
      "outputs": [
        {
          "output_type": "stream",
          "name": "stdout",
          "text": [
            "[1 2 3]\n"
          ]
        }
      ]
    },
    {
      "cell_type": "code",
      "source": [
        "print(type(arr))"
      ],
      "metadata": {
        "colab": {
          "base_uri": "https://localhost:8080/"
        },
        "id": "SDI6uaGnbloS",
        "outputId": "8e044f25-1c2e-4152-9734-8f3b5aaed147"
      },
      "execution_count": null,
      "outputs": [
        {
          "output_type": "stream",
          "name": "stdout",
          "text": [
            "<class 'numpy.ndarray'>\n"
          ]
        }
      ]
    },
    {
      "cell_type": "code",
      "source": [
        "arr1 = np.array(42)"
      ],
      "metadata": {
        "id": "eOko2ySeb3pW"
      },
      "execution_count": null,
      "outputs": []
    },
    {
      "cell_type": "code",
      "source": [
        "print(arr1)"
      ],
      "metadata": {
        "colab": {
          "base_uri": "https://localhost:8080/"
        },
        "id": "vcD0P1qyb6i2",
        "outputId": "cd555b07-47f6-49b4-912f-7991db52319a"
      },
      "execution_count": null,
      "outputs": [
        {
          "output_type": "stream",
          "name": "stdout",
          "text": [
            "42\n"
          ]
        }
      ]
    },
    {
      "cell_type": "code",
      "source": [
        "arr2 = np.array([[1,2,3],[4,5,6],[7,8,9,0]])"
      ],
      "metadata": {
        "colab": {
          "base_uri": "https://localhost:8080/"
        },
        "id": "rSzOAF4-b8c8",
        "outputId": "6739cc60-ad18-46b9-dc28-4b939ce75252"
      },
      "execution_count": null,
      "outputs": [
        {
          "output_type": "stream",
          "name": "stderr",
          "text": [
            "<ipython-input-111-bfe671eae504>:1: VisibleDeprecationWarning: Creating an ndarray from ragged nested sequences (which is a list-or-tuple of lists-or-tuples-or ndarrays with different lengths or shapes) is deprecated. If you meant to do this, you must specify 'dtype=object' when creating the ndarray.\n",
            "  arr2 = np.array([[1,2,3],[4,5,6],[7,8,9,0]])\n"
          ]
        }
      ]
    },
    {
      "cell_type": "code",
      "source": [
        "print(arr2)\n",
        "print(arr2.ndim)\n",
        "print(arr2.shape)"
      ],
      "metadata": {
        "colab": {
          "base_uri": "https://localhost:8080/"
        },
        "id": "O17GWtx_cYUS",
        "outputId": "392c1f57-927f-4c19-8346-c92f0df916b4"
      },
      "execution_count": null,
      "outputs": [
        {
          "output_type": "stream",
          "name": "stdout",
          "text": [
            "[list([1, 2, 3]) list([4, 5, 6]) list([7, 8, 9, 0])]\n",
            "1\n",
            "(3,)\n"
          ]
        }
      ]
    },
    {
      "cell_type": "code",
      "source": [
        "arr3 = np.array([[1, 2, 3, 4, 5], [6, 7, 8, 9, 10]])\n",
        "print(arr3[0:5,3])\n",
        "print(arr3[1,3:5])"
      ],
      "metadata": {
        "colab": {
          "base_uri": "https://localhost:8080/"
        },
        "id": "KqsjfWnwcivW",
        "outputId": "74378af5-ab28-4ecb-ffb9-fe31ddda3330"
      },
      "execution_count": null,
      "outputs": [
        {
          "output_type": "stream",
          "name": "stdout",
          "text": [
            "[4 9]\n",
            "[ 9 10]\n"
          ]
        }
      ]
    },
    {
      "cell_type": "code",
      "source": [
        "arr4 = np.array([[[[1, 2, 3], [4, 5, 6]], [[1, 2, 3], [4, 5, 6]]], [[[1, 2, 3], [4, 5, 6]], [[1, 2, 3], [4, 5, 6]]]])"
      ],
      "metadata": {
        "id": "pHig25Q4dJJr"
      },
      "execution_count": null,
      "outputs": []
    },
    {
      "cell_type": "code",
      "source": [
        "print(arr4)\n",
        "print(arr4.ndim)\n",
        "print(arr4.shape)"
      ],
      "metadata": {
        "colab": {
          "base_uri": "https://localhost:8080/"
        },
        "id": "J5FhZnNvd7Cj",
        "outputId": "04ef4cb2-ae9f-482f-b94a-4b598ecd82ac"
      },
      "execution_count": null,
      "outputs": [
        {
          "output_type": "stream",
          "name": "stdout",
          "text": [
            "[[[[1 2 3]\n",
            "   [4 5 6]]\n",
            "\n",
            "  [[1 2 3]\n",
            "   [4 5 6]]]\n",
            "\n",
            "\n",
            " [[[1 2 3]\n",
            "   [4 5 6]]\n",
            "\n",
            "  [[1 2 3]\n",
            "   [4 5 6]]]]\n",
            "4\n",
            "(2, 2, 2, 3)\n"
          ]
        }
      ]
    },
    {
      "cell_type": "code",
      "source": [
        "a = np.array(42)\n",
        "b = np.array([1, 2, 3, 4, 5])\n",
        "c = np.array([[1, 2, 3], [4, 5, 6]])\n",
        "d = np.array([[[1, 2, 3], [4, 5, 6]], [[1, 2, 3], [4, 5, 6]]])\n",
        "print(a.ndim)\n",
        "print(b.ndim)\n",
        "print(c.ndim)\n",
        "print(d.ndim)"
      ],
      "metadata": {
        "colab": {
          "base_uri": "https://localhost:8080/"
        },
        "id": "TYcrsunld9kz",
        "outputId": "44b88d66-6045-4d45-8a0f-99006078d952"
      },
      "execution_count": null,
      "outputs": [
        {
          "output_type": "stream",
          "name": "stdout",
          "text": [
            "0\n",
            "1\n",
            "2\n",
            "3\n"
          ]
        }
      ]
    },
    {
      "cell_type": "code",
      "source": [
        "print(arr[0])"
      ],
      "metadata": {
        "colab": {
          "base_uri": "https://localhost:8080/"
        },
        "id": "dn16maO9eYMP",
        "outputId": "392c7643-bdeb-408a-c824-5ae6fb80ab68"
      },
      "execution_count": null,
      "outputs": [
        {
          "output_type": "stream",
          "name": "stdout",
          "text": [
            "1\n"
          ]
        }
      ]
    },
    {
      "cell_type": "code",
      "source": [
        "arr = np.array([1, 2, 3, 4])\n",
        "print(arr[2] + arr[3])"
      ],
      "metadata": {
        "colab": {
          "base_uri": "https://localhost:8080/"
        },
        "id": "TVLzfEraebhc",
        "outputId": "5a6a9c06-f57f-4cce-f957-cee81ee3445c"
      },
      "execution_count": null,
      "outputs": [
        {
          "output_type": "stream",
          "name": "stdout",
          "text": [
            "7\n"
          ]
        }
      ]
    },
    {
      "cell_type": "code",
      "source": [
        "arr5 = np.array([[1,2,3,4,5], [6,7,8,9,10]])\n",
        "print('2nd element on 1st row: ', arr5[0, 1])"
      ],
      "metadata": {
        "colab": {
          "base_uri": "https://localhost:8080/"
        },
        "id": "HZD0pFOXeeg2",
        "outputId": "50a57f51-cac5-429b-a153-9cd00d216728"
      },
      "execution_count": null,
      "outputs": [
        {
          "output_type": "stream",
          "name": "stdout",
          "text": [
            "2nd element on 1st row:  2\n"
          ]
        }
      ]
    },
    {
      "cell_type": "code",
      "source": [
        "arr = np.array([1, 2, 3, 4, 5, 6, 7])\n",
        "print(arr[4:])"
      ],
      "metadata": {
        "colab": {
          "base_uri": "https://localhost:8080/"
        },
        "id": "FesA-0rgenKO",
        "outputId": "db615a03-2b27-49ca-b925-220055c332ad"
      },
      "execution_count": null,
      "outputs": [
        {
          "output_type": "stream",
          "name": "stdout",
          "text": [
            "[5 6 7]\n"
          ]
        }
      ]
    },
    {
      "cell_type": "code",
      "source": [
        "print(arr[:4])"
      ],
      "metadata": {
        "colab": {
          "base_uri": "https://localhost:8080/"
        },
        "id": "ho8Gxasue9Wj",
        "outputId": "9b0bcd9f-5eef-4789-d765-f13a4efa7818"
      },
      "execution_count": null,
      "outputs": [
        {
          "output_type": "stream",
          "name": "stdout",
          "text": [
            "[1 2 3 4]\n"
          ]
        }
      ]
    },
    {
      "cell_type": "code",
      "source": [
        "print(arr[-3:-1])"
      ],
      "metadata": {
        "colab": {
          "base_uri": "https://localhost:8080/"
        },
        "id": "QmC6qDyYe_SR",
        "outputId": "a033b2d0-6f46-478d-a78d-35ca4b13d576"
      },
      "execution_count": null,
      "outputs": [
        {
          "output_type": "stream",
          "name": "stdout",
          "text": [
            "[5 6]\n"
          ]
        }
      ]
    },
    {
      "cell_type": "code",
      "source": [
        "print(arr[::2])"
      ],
      "metadata": {
        "colab": {
          "base_uri": "https://localhost:8080/"
        },
        "id": "wRoxS1ntfCBj",
        "outputId": "8b592e93-5afe-412b-f9cd-28b49b081fd8"
      },
      "execution_count": null,
      "outputs": [
        {
          "output_type": "stream",
          "name": "stdout",
          "text": [
            "[1 3 5 7]\n"
          ]
        }
      ]
    },
    {
      "cell_type": "code",
      "source": [
        "arr6 = np.array([[1, 2, 3, 4, 5], [6, 7, 8, 9, 10]])\n",
        "print(arr6[0:2,2])"
      ],
      "metadata": {
        "colab": {
          "base_uri": "https://localhost:8080/"
        },
        "id": "HmzklrQ5fE6I",
        "outputId": "07a18999-baa0-439b-e42b-3860c1667400"
      },
      "execution_count": null,
      "outputs": [
        {
          "output_type": "stream",
          "name": "stdout",
          "text": [
            "[3 8]\n"
          ]
        }
      ]
    },
    {
      "cell_type": "code",
      "source": [],
      "metadata": {
        "id": "hOm7cb5IfI76"
      },
      "execution_count": null,
      "outputs": []
    }
  ]
}