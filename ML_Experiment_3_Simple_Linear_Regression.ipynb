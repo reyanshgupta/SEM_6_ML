{
  "nbformat": 4,
  "nbformat_minor": 0,
  "metadata": {
    "colab": {
      "provenance": [],
      "authorship_tag": "ABX9TyOnfnl6PD7YP1u+bEHsskWo"
    },
    "kernelspec": {
      "name": "python3",
      "display_name": "Python 3"
    },
    "language_info": {
      "name": "python"
    }
  },
  "cells": [
    {
      "cell_type": "code",
      "execution_count": 1,
      "metadata": {
        "id": "pAMnlQUf19qE"
      },
      "outputs": [],
      "source": [
        "import pandas as pd"
      ]
    },
    {
      "cell_type": "code",
      "source": [
        "tips_df = pd.read_csv('/content/tips.csv')\n",
        "print(tips_df.head(10))"
      ],
      "metadata": {
        "colab": {
          "base_uri": "https://localhost:8080/"
        },
        "id": "W7hD3lCu4fX1",
        "outputId": "22d8a961-c221-44c0-801e-bff11588c7d0"
      },
      "execution_count": 12,
      "outputs": [
        {
          "output_type": "stream",
          "name": "stdout",
          "text": [
            "   total_bill   tip     sex smoker  day    time  size\n",
            "0       16.99  1.01  Female     No  Sun  Dinner     2\n",
            "1       10.34  1.66    Male     No  Sun  Dinner     3\n",
            "2       21.01  3.50    Male     No  Sun  Dinner     3\n",
            "3       23.68  3.31    Male     No  Sun  Dinner     2\n",
            "4       24.59  3.61  Female     No  Sun  Dinner     4\n",
            "5       25.29  4.71    Male     No  Sun  Dinner     4\n",
            "6        8.77  2.00    Male     No  Sun  Dinner     2\n",
            "7       26.88  3.12    Male     No  Sun  Dinner     4\n",
            "8       15.04  1.96    Male     No  Sun  Dinner     2\n",
            "9       14.78  3.23    Male     No  Sun  Dinner     2\n"
          ]
        }
      ]
    },
    {
      "cell_type": "code",
      "source": [
        "total_bill = tips_df['total_bill']\n",
        "tip = tips_df['tip']"
      ],
      "metadata": {
        "id": "8FLl1vsT4n3G"
      },
      "execution_count": 4,
      "outputs": []
    },
    {
      "cell_type": "code",
      "source": [
        "mean_total_bill = total_bill.mean()\n",
        "mean_tip = tip.mean()"
      ],
      "metadata": {
        "id": "xJmULTGj409w"
      },
      "execution_count": 5,
      "outputs": []
    },
    {
      "cell_type": "code",
      "source": [
        "#slope (b1) of the regression line\n",
        "numerator = ((total_bill - mean_total_bill) * (tip - mean_tip)).sum()\n",
        "denominator = ((total_bill - mean_total_bill) ** 2).sum()\n",
        "b1 = numerator / denominator"
      ],
      "metadata": {
        "id": "1Mk1gZA4414f"
      },
      "execution_count": 7,
      "outputs": []
    },
    {
      "cell_type": "code",
      "source": [
        "#intercept (b0) of the regression line\n",
        "b0 = mean_tip - (b1 * mean_total_bill)"
      ],
      "metadata": {
        "id": "I9WXMwaL44WY"
      },
      "execution_count": 9,
      "outputs": []
    },
    {
      "cell_type": "code",
      "source": [
        "total_bill_input = float(input(\"Enter the bill amount to predict the tip ampount: \"))\n",
        "predicted_tip = b0 + (b1 * total_bill_input)\n",
        "print(f\"Predicted tip for a total bill of $15: ${predicted_tip:.2f}\")"
      ],
      "metadata": {
        "colab": {
          "base_uri": "https://localhost:8080/"
        },
        "id": "lxjlRciW46ia",
        "outputId": "193ab1aa-84f5-43db-8c3c-d15508e55dbf"
      },
      "execution_count": 13,
      "outputs": [
        {
          "output_type": "stream",
          "name": "stdout",
          "text": [
            "Enter the bill amount to predict the tip ampount: 14\n",
            "Predicted tip for a total bill of $15: $2.39\n"
          ]
        }
      ]
    }
  ]
}